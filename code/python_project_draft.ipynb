{
 "cells": [
  {
   "cell_type": "code",
   "execution_count": 1,
   "metadata": {},
   "outputs": [],
   "source": [
    "import os\n",
    "import numpy as np\n",
    "import matplotlib.pyplot as plt\n",
    "%matplotlib inline\n",
    "import pandas as pd\n",
    "\n",
    "from allensdk.brain_observatory.ecephys.ecephys_project_cache import EcephysProjectCache"
   ]
  },
  {
   "cell_type": "code",
   "execution_count": 4,
   "metadata": {},
   "outputs": [
    {
     "data": {
      "text/html": [
       "<div>\n",
       "<style scoped>\n",
       "    .dataframe tbody tr th:only-of-type {\n",
       "        vertical-align: middle;\n",
       "    }\n",
       "\n",
       "    .dataframe tbody tr th {\n",
       "        vertical-align: top;\n",
       "    }\n",
       "\n",
       "    .dataframe thead th {\n",
       "        text-align: right;\n",
       "    }\n",
       "</style>\n",
       "<table border=\"1\" class=\"dataframe\">\n",
       "  <thead>\n",
       "    <tr style=\"text-align: right;\">\n",
       "      <th></th>\n",
       "      <th>published_at</th>\n",
       "      <th>specimen_id</th>\n",
       "      <th>session_type</th>\n",
       "      <th>age_in_days</th>\n",
       "      <th>sex</th>\n",
       "      <th>full_genotype</th>\n",
       "      <th>unit_count</th>\n",
       "      <th>channel_count</th>\n",
       "      <th>probe_count</th>\n",
       "      <th>ecephys_structure_acronyms</th>\n",
       "    </tr>\n",
       "    <tr>\n",
       "      <th>id</th>\n",
       "      <th></th>\n",
       "      <th></th>\n",
       "      <th></th>\n",
       "      <th></th>\n",
       "      <th></th>\n",
       "      <th></th>\n",
       "      <th></th>\n",
       "      <th></th>\n",
       "      <th></th>\n",
       "      <th></th>\n",
       "    </tr>\n",
       "  </thead>\n",
       "  <tbody>\n",
       "    <tr>\n",
       "      <th>715093703</th>\n",
       "      <td>2019-10-03T00:00:00Z</td>\n",
       "      <td>699733581</td>\n",
       "      <td>brain_observatory_1.1</td>\n",
       "      <td>118.0</td>\n",
       "      <td>M</td>\n",
       "      <td>Sst-IRES-Cre/wt;Ai32(RCL-ChR2(H134R)_EYFP)/wt</td>\n",
       "      <td>884</td>\n",
       "      <td>2219</td>\n",
       "      <td>6</td>\n",
       "      <td>[CA1, VISrl, nan, PO, LP, LGd, CA3, DG, VISl, ...</td>\n",
       "    </tr>\n",
       "    <tr>\n",
       "      <th>719161530</th>\n",
       "      <td>2019-10-03T00:00:00Z</td>\n",
       "      <td>703279284</td>\n",
       "      <td>brain_observatory_1.1</td>\n",
       "      <td>122.0</td>\n",
       "      <td>M</td>\n",
       "      <td>Sst-IRES-Cre/wt;Ai32(RCL-ChR2(H134R)_EYFP)/wt</td>\n",
       "      <td>755</td>\n",
       "      <td>2214</td>\n",
       "      <td>6</td>\n",
       "      <td>[TH, Eth, APN, POL, LP, DG, CA1, VISpm, nan, N...</td>\n",
       "    </tr>\n",
       "    <tr>\n",
       "      <th>721123822</th>\n",
       "      <td>2019-10-03T00:00:00Z</td>\n",
       "      <td>707296982</td>\n",
       "      <td>brain_observatory_1.1</td>\n",
       "      <td>125.0</td>\n",
       "      <td>M</td>\n",
       "      <td>Pvalb-IRES-Cre/wt;Ai32(RCL-ChR2(H134R)_EYFP)/wt</td>\n",
       "      <td>444</td>\n",
       "      <td>2229</td>\n",
       "      <td>6</td>\n",
       "      <td>[MB, SCig, PPT, NOT, DG, CA1, VISam, nan, LP, ...</td>\n",
       "    </tr>\n",
       "    <tr>\n",
       "      <th>732592105</th>\n",
       "      <td>2019-10-03T00:00:00Z</td>\n",
       "      <td>717038288</td>\n",
       "      <td>brain_observatory_1.1</td>\n",
       "      <td>100.0</td>\n",
       "      <td>M</td>\n",
       "      <td>wt/wt</td>\n",
       "      <td>824</td>\n",
       "      <td>1847</td>\n",
       "      <td>5</td>\n",
       "      <td>[grey, VISpm, nan, VISp, VISl, VISal, VISrl]</td>\n",
       "    </tr>\n",
       "    <tr>\n",
       "      <th>737581020</th>\n",
       "      <td>2019-10-03T00:00:00Z</td>\n",
       "      <td>718643567</td>\n",
       "      <td>brain_observatory_1.1</td>\n",
       "      <td>108.0</td>\n",
       "      <td>M</td>\n",
       "      <td>wt/wt</td>\n",
       "      <td>568</td>\n",
       "      <td>2218</td>\n",
       "      <td>6</td>\n",
       "      <td>[grey, VISmma, nan, VISpm, VISp, VISl, VISrl]</td>\n",
       "    </tr>\n",
       "  </tbody>\n",
       "</table>\n",
       "</div>"
      ],
      "text/plain": [
       "                   published_at  specimen_id           session_type  \\\n",
       "id                                                                    \n",
       "715093703  2019-10-03T00:00:00Z    699733581  brain_observatory_1.1   \n",
       "719161530  2019-10-03T00:00:00Z    703279284  brain_observatory_1.1   \n",
       "721123822  2019-10-03T00:00:00Z    707296982  brain_observatory_1.1   \n",
       "732592105  2019-10-03T00:00:00Z    717038288  brain_observatory_1.1   \n",
       "737581020  2019-10-03T00:00:00Z    718643567  brain_observatory_1.1   \n",
       "\n",
       "           age_in_days sex                                    full_genotype  \\\n",
       "id                                                                            \n",
       "715093703        118.0   M    Sst-IRES-Cre/wt;Ai32(RCL-ChR2(H134R)_EYFP)/wt   \n",
       "719161530        122.0   M    Sst-IRES-Cre/wt;Ai32(RCL-ChR2(H134R)_EYFP)/wt   \n",
       "721123822        125.0   M  Pvalb-IRES-Cre/wt;Ai32(RCL-ChR2(H134R)_EYFP)/wt   \n",
       "732592105        100.0   M                                            wt/wt   \n",
       "737581020        108.0   M                                            wt/wt   \n",
       "\n",
       "           unit_count  channel_count  probe_count  \\\n",
       "id                                                  \n",
       "715093703         884           2219            6   \n",
       "719161530         755           2214            6   \n",
       "721123822         444           2229            6   \n",
       "732592105         824           1847            5   \n",
       "737581020         568           2218            6   \n",
       "\n",
       "                                  ecephys_structure_acronyms  \n",
       "id                                                            \n",
       "715093703  [CA1, VISrl, nan, PO, LP, LGd, CA3, DG, VISl, ...  \n",
       "719161530  [TH, Eth, APN, POL, LP, DG, CA1, VISpm, nan, N...  \n",
       "721123822  [MB, SCig, PPT, NOT, DG, CA1, VISam, nan, LP, ...  \n",
       "732592105       [grey, VISpm, nan, VISp, VISl, VISal, VISrl]  \n",
       "737581020      [grey, VISmma, nan, VISpm, VISp, VISl, VISrl]  "
      ]
     },
     "execution_count": 4,
     "metadata": {},
     "output_type": "execute_result"
    }
   ],
   "source": [
    "import platform \n",
    "\n",
    "platstring = platform.platform()\n",
    "if ('Darwin' in platstring) or ('macOS' in platstring):\n",
    "    # macOS \n",
    "    data_root = \"/Volumes/Brain2023/\"\n",
    "elif 'Windows'  in platstring:\n",
    "    # Windows (replace with the drive letter of USB drive)\n",
    "    data_root = \"E:/\"\n",
    "elif ('amzn' in platstring):\n",
    "    # then on Code Ocean\n",
    "    data_root = \"/data/\"\n",
    "else:\n",
    "    # then your own linux platform\n",
    "    # EDIT location where you mounted hard drive\n",
    "    data_root = \"/media/$USERNAME/Brain2023/\"\n",
    "\n",
    "\n",
    "manifest_path = os.path.join(data_root,'allen-brain-observatory/visual-coding-neuropixels/ecephys-cache/manifest.json') \n",
    "\n",
    "cache = EcephysProjectCache.from_warehouse(manifest=manifest_path)\n",
    "\n",
    "sessions = cache.get_session_table() #session_table is a pandas dataframe object\n",
    "\n",
    "sessions.head()\n",
    "\n"
   ]
  },
  {
   "cell_type": "code",
   "execution_count": 13,
   "metadata": {},
   "outputs": [
    {
     "name": "stdout",
     "output_type": "stream",
     "text": [
      "Number of unique specimens in the session table: 58\n",
      "Number of unique full_genotype values in the session table: 4\n",
      "['brain_observatory_1.1', 'functional_connectivity']\n",
      "Number of sessions with each unique full_genotype value:\n",
      "wt/wt                                              30\n",
      "Sst-IRES-Cre/wt;Ai32(RCL-ChR2(H134R)_EYFP)/wt      12\n",
      "Pvalb-IRES-Cre/wt;Ai32(RCL-ChR2(H134R)_EYFP)/wt     8\n",
      "Vip-IRES-Cre/wt;Ai32(RCL-ChR2(H134R)_EYFP)/wt       8\n",
      "Name: full_genotype, dtype: int64\n",
      "Number of sessions with each unique full_genotype value:\n",
      "wt/wt                                              16\n",
      "Sst-IRES-Cre/wt;Ai32(RCL-ChR2(H134R)_EYFP)/wt       6\n",
      "Pvalb-IRES-Cre/wt;Ai32(RCL-ChR2(H134R)_EYFP)/wt     5\n",
      "Vip-IRES-Cre/wt;Ai32(RCL-ChR2(H134R)_EYFP)/wt       5\n",
      "Name: full_genotype, dtype: int64\n"
     ]
    }
   ],
   "source": [
    "#provide the number of unique specimens in the session table\n",
    "print('Number of unique specimens in the session table: ' + str(len(sessions.specimen_id.unique())))\n",
    "\n",
    "brain_observatory_type_sessions = sessions[sessions[\"session_type\"] == \"brain_observatory_1.1\"]\n",
    "\n",
    "#count the number of unique full_genotype values in the session table\n",
    "print('Number of unique full_genotype values in the session table: ' + str(len(sessions.full_genotype.unique())))\n",
    "\n",
    "#provide the number of unique session_type values in the session table\n",
    "print(cache.get_all_session_types())\n",
    "\n",
    "#for each unique full_genotype value, count the number of sessions with that value\n",
    "print('Number of sessions with each unique full_genotype value:')\n",
    "print(sessions.full_genotype.value_counts())\n",
    "\n",
    "\n",
    "# create a brain_observatory_type_sessions dataframe\n",
    "brain_observatory_type_sessions = sessions[sessions[\"session_type\"] == \"brain_observatory_1.1\"]\n",
    "\n",
    "#for each unique full_genotype value, count the number of sessions with that value\n",
    "print('Number of sessions with each unique full_genotype value:')\n",
    "print(brain_observatory_type_sessions.full_genotype.value_counts())\n",
    "\n"
   ]
  },
  {
   "cell_type": "code",
   "execution_count": 15,
   "metadata": {},
   "outputs": [
    {
     "name": "stdout",
     "output_type": "stream",
     "text": [
      "Number of sessions in the brain_observatory_type_sessions dataframe: 32\n"
     ]
    }
   ],
   "source": [
    "#store the unique id values of the sessions in the brain_observatory_type_sessions dataframe in a list \n",
    "session_ids = brain_observatory_type_sessions.index.values.tolist()\n",
    "\n",
    "#session_ids is a list of session ids in the brain_observatory_type_sessions dataframe\n",
    "\n",
    "print('Number of sessions in the brain_observatory_type_sessions dataframe: ' + str(len(session_ids)))"
   ]
  },
  {
   "cell_type": "code",
   "execution_count": 19,
   "metadata": {},
   "outputs": [],
   "source": [
    "#create a function that will take in session id and allow the user to access the meta data for that session \n",
    "def get_session_data(session_id):\n",
    "    session_metadata = cache.get_session_data(session_id).metadata\n",
    "    return session_metadata \n",
    "\n",
    "#use the function to access the meta data for the first session in the brain_observatory_type_sessions dataframe\n",
    "session_1 = get_session_data(session_ids[0]) \n",
    "\n",
    "session_1[0]\n",
    "\n",
    "\n"
   ]
  },
  {
   "cell_type": "code",
   "execution_count": 40,
   "metadata": {},
   "outputs": [
    {
     "name": "stdout",
     "output_type": "stream",
     "text": [
      "ecephys_session_id for the first index of session_1: 715093703\n"
     ]
    }
   ],
   "source": [
    "specific_id = session_1.get('ecephys_session_id') #use the get method to access the value associated with the key 'ecephys_session_id'\n",
    "\n",
    "#print the value associated with the key 'ecephys_session_id'\n",
    "print('ecephys_session_id for the first index of session_1: ' + str(session_1.get('ecephys_session_id')))"
   ]
  },
  {
   "cell_type": "code",
   "execution_count": 42,
   "metadata": {},
   "outputs": [
    {
     "name": "stdout",
     "output_type": "stream",
     "text": [
      "Number of units in the session table: 884\n"
     ]
    }
   ],
   "source": [
    "#using the specific session id, access the session data for that session \n",
    "session_1_data = cache.get_session_data(specific_id)\n",
    "\n",
    "#how many units are there in the session table?\n",
    "print('Number of units in the session table: ' + str(len(session_1_data.units)))"
   ]
  },
  {
   "cell_type": "code",
   "execution_count": 47,
   "metadata": {},
   "outputs": [
    {
     "name": "stdout",
     "output_type": "stream",
     "text": [
      "884 units total\n",
      "131 units have snr > 4\n"
     ]
    },
    {
     "data": {
      "image/png": "[encoded data removed]",
      "text/plain": [
       "<Figure size 640x480 with 1 Axes>"
      ]
     },
     "metadata": {},
     "output_type": "display_data"
    },
    {
     "data": {
      "image/png": "[encoded data removed]",
      "text/plain": [
       "<Figure size 640x480 with 1 Axes>"
      ]
     },
     "metadata": {},
     "output_type": "display_data"
    },
    {
     "data": {
      "text/plain": [
       "KstestResult(statistic=0.9999683747306906, pvalue=0.0, statistic_location=4.00034374998353, statistic_sign=-1)"
      ]
     },
     "execution_count": 47,
     "metadata": {},
     "output_type": "execute_result"
    }
   ],
   "source": [
    "print(f'{session_1_data.units.shape[0]} units total') #print the number of units in the session table\n",
    "units_with_very_high_snr = session_1_data.units[session_1_data.units['snr'] > 4] #create a dataframe of units with snr > 4\n",
    "print(f'{units_with_very_high_snr.shape[0]} units have snr > 4') #print the number of units with snr > 4\n",
    "\n",
    "#plot the distribution of snr values for all units in the session table \n",
    "plt.hist(session_1_data.units['snr'], bins=100)\n",
    "plt.xlabel('snr')\n",
    "plt.ylabel('number of units')\n",
    "plt.title('Distribution of snr values for all units in the session table')\n",
    "plt.show()\n",
    "\n",
    "#test for bimodality of snr values in the session table\n",
    "from scipy.stats import kstest\n",
    "kstest(session_1_data.units['snr'], 'norm') #if the p-value is less than 0.05, then the distribution is not normal\n",
    "\n",
    "#plot the distribution of snr values for units with snr > 4\n",
    "plt.hist(units_with_very_high_snr['snr'], bins=100)\n",
    "plt.xlabel('snr')\n",
    "plt.ylabel('number of units')\n",
    "plt.title('Distribution of snr values for units with snr > 4')\n",
    "plt.show()\n",
    "\n",
    "#test for bimodality of snr values for units with snr > 4 \n",
    "kstest(units_with_very_high_snr['snr'], 'norm') #if the p-value is less than 0.05, then the distribution is not normal\n",
    "\n"
   ]
  },
  {
   "cell_type": "code",
   "execution_count": 48,
   "metadata": {},
   "outputs": [
    {
     "name": "stderr",
     "output_type": "stream",
     "text": [
      "/var/folders/ws/rz9dhstn6hbcglgm5d7dxjdw0000gq/T/ipykernel_24116/3479032595.py:13: FutureWarning: The frame.append method is deprecated and will be removed from pandas in a future version. Use pandas.concat instead.\n",
      "  snr_values = snr_values.append(session_units) #append the session_units dataframe to the snr_values dataframe\n"
     ]
    }
   ],
   "source": [
    "#create a function that will iterate over the session_ids list, access the session data for each session id, and store the snr values for each session \n",
    "# pandas dataframe \n",
    "\n",
    "def get_snr_values(session_ids):\n",
    "    snr_values = pd.DataFrame(columns=['session_id', 'unit_id', 'snr']) #create an empty pandas dataframe with columns 'session_id', 'unit_id', and 'snr'\n",
    "    \n",
    "    for session_id in session_ids: #iterate over the session_ids list\n",
    "        session_data = cache.get_session_data(session_id) #access the session data for each session id\n",
    "        session_units = session_data.units[['snr']] #create a dataframe with the snr values for each unit in the session\n",
    "        session_units['unit_id'] = session_units.index #add a column 'unit_id' with the index values of the session_units dataframe\n",
    "        session_units['session_id'] = session_id #add a column 'session_id' with the current session_id value\n",
    "        session_units = session_units[['session_id', 'unit_id', 'snr']] #reorder the columns of the session_units dataframe\n",
    "        snr_values = snr_values.append(session_units) #append the session_units dataframe to the snr_values dataframe\n",
    "    return snr_values\n",
    "\n",
    "#use the function to create a dataframe with the snr values for each unit in the session table\n",
    "snr_values = get_snr_values(session_ids)\n",
    "\n",
    "#plot the distribution of snr values for all units in the session table\n",
    "plt.hist(snr_values['snr'], bins=100)"
   ]
  },
  {
   "cell_type": "code",
   "execution_count": null,
   "metadata": {},
   "outputs": [],
   "source": []
  }
 ],
 "metadata": {
  "kernelspec": {
   "display_name": "swdb2023",
   "language": "python",
   "name": "python3"
  },
  "language_info": {
   "codemirror_mode": {
    "name": "ipython",
    "version": 3
   },
   "file_extension": ".py",
   "mimetype": "text/x-python",
   "name": "python",
   "nbconvert_exporter": "python",
   "pygments_lexer": "ipython3",
   "version": "3.8.17"
  },
  "orig_nbformat": 4
 },
 "nbformat": 4,
 "nbformat_minor": 2
}
