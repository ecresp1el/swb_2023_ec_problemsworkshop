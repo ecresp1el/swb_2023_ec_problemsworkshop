{
 "cells": [
  {
   "cell_type": "code",
   "execution_count": 3,
   "metadata": {},
   "outputs": [],
   "source": [
    "import os\n",
    "import numpy as np\n",
    "import matplotlib.pyplot as plt\n",
    "%matplotlib inline\n",
    "import pandas as pd\n",
    "\n",
    "from allensdk.brain_observatory.ecephys.ecephys_project_cache import EcephysProjectCache"
   ]
  },
  {
   "cell_type": "code",
   "execution_count": 4,
   "metadata": {},
   "outputs": [
    {
     "data": {
      "text/html": [
       "<div>\n",
       "<style scoped>\n",
       "    .dataframe tbody tr th:only-of-type {\n",
       "        vertical-align: middle;\n",
       "    }\n",
       "\n",
       "    .dataframe tbody tr th {\n",
       "        vertical-align: top;\n",
       "    }\n",
       "\n",
       "    .dataframe thead th {\n",
       "        text-align: right;\n",
       "    }\n",
       "</style>\n",
       "<table border=\"1\" class=\"dataframe\">\n",
       "  <thead>\n",
       "    <tr style=\"text-align: right;\">\n",
       "      <th></th>\n",
       "      <th>published_at</th>\n",
       "      <th>specimen_id</th>\n",
       "      <th>session_type</th>\n",
       "      <th>age_in_days</th>\n",
       "      <th>sex</th>\n",
       "      <th>full_genotype</th>\n",
       "      <th>unit_count</th>\n",
       "      <th>channel_count</th>\n",
       "      <th>probe_count</th>\n",
       "      <th>ecephys_structure_acronyms</th>\n",
       "    </tr>\n",
       "    <tr>\n",
       "      <th>id</th>\n",
       "      <th></th>\n",
       "      <th></th>\n",
       "      <th></th>\n",
       "      <th></th>\n",
       "      <th></th>\n",
       "      <th></th>\n",
       "      <th></th>\n",
       "      <th></th>\n",
       "      <th></th>\n",
       "      <th></th>\n",
       "    </tr>\n",
       "  </thead>\n",
       "  <tbody>\n",
       "    <tr>\n",
       "      <th>715093703</th>\n",
       "      <td>2019-10-03T00:00:00Z</td>\n",
       "      <td>699733581</td>\n",
       "      <td>brain_observatory_1.1</td>\n",
       "      <td>118.0</td>\n",
       "      <td>M</td>\n",
       "      <td>Sst-IRES-Cre/wt;Ai32(RCL-ChR2(H134R)_EYFP)/wt</td>\n",
       "      <td>884</td>\n",
       "      <td>2219</td>\n",
       "      <td>6</td>\n",
       "      <td>[CA1, VISrl, nan, PO, LP, LGd, CA3, DG, VISl, ...</td>\n",
       "    </tr>\n",
       "    <tr>\n",
       "      <th>719161530</th>\n",
       "      <td>2019-10-03T00:00:00Z</td>\n",
       "      <td>703279284</td>\n",
       "      <td>brain_observatory_1.1</td>\n",
       "      <td>122.0</td>\n",
       "      <td>M</td>\n",
       "      <td>Sst-IRES-Cre/wt;Ai32(RCL-ChR2(H134R)_EYFP)/wt</td>\n",
       "      <td>755</td>\n",
       "      <td>2214</td>\n",
       "      <td>6</td>\n",
       "      <td>[TH, Eth, APN, POL, LP, DG, CA1, VISpm, nan, N...</td>\n",
       "    </tr>\n",
       "    <tr>\n",
       "      <th>721123822</th>\n",
       "      <td>2019-10-03T00:00:00Z</td>\n",
       "      <td>707296982</td>\n",
       "      <td>brain_observatory_1.1</td>\n",
       "      <td>125.0</td>\n",
       "      <td>M</td>\n",
       "      <td>Pvalb-IRES-Cre/wt;Ai32(RCL-ChR2(H134R)_EYFP)/wt</td>\n",
       "      <td>444</td>\n",
       "      <td>2229</td>\n",
       "      <td>6</td>\n",
       "      <td>[MB, SCig, PPT, NOT, DG, CA1, VISam, nan, LP, ...</td>\n",
       "    </tr>\n",
       "    <tr>\n",
       "      <th>732592105</th>\n",
       "      <td>2019-10-03T00:00:00Z</td>\n",
       "      <td>717038288</td>\n",
       "      <td>brain_observatory_1.1</td>\n",
       "      <td>100.0</td>\n",
       "      <td>M</td>\n",
       "      <td>wt/wt</td>\n",
       "      <td>824</td>\n",
       "      <td>1847</td>\n",
       "      <td>5</td>\n",
       "      <td>[grey, VISpm, nan, VISp, VISl, VISal, VISrl]</td>\n",
       "    </tr>\n",
       "    <tr>\n",
       "      <th>737581020</th>\n",
       "      <td>2019-10-03T00:00:00Z</td>\n",
       "      <td>718643567</td>\n",
       "      <td>brain_observatory_1.1</td>\n",
       "      <td>108.0</td>\n",
       "      <td>M</td>\n",
       "      <td>wt/wt</td>\n",
       "      <td>568</td>\n",
       "      <td>2218</td>\n",
       "      <td>6</td>\n",
       "      <td>[grey, VISmma, nan, VISpm, VISp, VISl, VISrl]</td>\n",
       "    </tr>\n",
       "  </tbody>\n",
       "</table>\n",
       "</div>"
      ],
      "text/plain": [
       "                   published_at  specimen_id           session_type  \\\n",
       "id                                                                    \n",
       "715093703  2019-10-03T00:00:00Z    699733581  brain_observatory_1.1   \n",
       "719161530  2019-10-03T00:00:00Z    703279284  brain_observatory_1.1   \n",
       "721123822  2019-10-03T00:00:00Z    707296982  brain_observatory_1.1   \n",
       "732592105  2019-10-03T00:00:00Z    717038288  brain_observatory_1.1   \n",
       "737581020  2019-10-03T00:00:00Z    718643567  brain_observatory_1.1   \n",
       "\n",
       "           age_in_days sex                                    full_genotype  \\\n",
       "id                                                                            \n",
       "715093703        118.0   M    Sst-IRES-Cre/wt;Ai32(RCL-ChR2(H134R)_EYFP)/wt   \n",
       "719161530        122.0   M    Sst-IRES-Cre/wt;Ai32(RCL-ChR2(H134R)_EYFP)/wt   \n",
       "721123822        125.0   M  Pvalb-IRES-Cre/wt;Ai32(RCL-ChR2(H134R)_EYFP)/wt   \n",
       "732592105        100.0   M                                            wt/wt   \n",
       "737581020        108.0   M                                            wt/wt   \n",
       "\n",
       "           unit_count  channel_count  probe_count  \\\n",
       "id                                                  \n",
       "715093703         884           2219            6   \n",
       "719161530         755           2214            6   \n",
       "721123822         444           2229            6   \n",
       "732592105         824           1847            5   \n",
       "737581020         568           2218            6   \n",
       "\n",
       "                                  ecephys_structure_acronyms  \n",
       "id                                                            \n",
       "715093703  [CA1, VISrl, nan, PO, LP, LGd, CA3, DG, VISl, ...  \n",
       "719161530  [TH, Eth, APN, POL, LP, DG, CA1, VISpm, nan, N...  \n",
       "721123822  [MB, SCig, PPT, NOT, DG, CA1, VISam, nan, LP, ...  \n",
       "732592105       [grey, VISpm, nan, VISp, VISl, VISal, VISrl]  \n",
       "737581020      [grey, VISmma, nan, VISpm, VISp, VISl, VISrl]  "
      ]
     },
     "execution_count": 4,
     "metadata": {},
     "output_type": "execute_result"
    }
   ],
   "source": [
    "import platform \n",
    "\n",
    "platstring = platform.platform()\n",
    "if ('Darwin' in platstring) or ('macOS' in platstring):\n",
    "    # macOS \n",
    "    data_root = \"/Volumes/Brain2023/\"\n",
    "elif 'Windows'  in platstring:\n",
    "    # Windows (replace with the drive letter of USB drive)\n",
    "    data_root = \"E:/\"\n",
    "elif ('amzn' in platstring):\n",
    "    # then on Code Ocean\n",
    "    data_root = \"/data/\"\n",
    "else:\n",
    "    # then your own linux platform\n",
    "    # EDIT location where you mounted hard drive\n",
    "    data_root = \"/media/$USERNAME/Brain2023/\"\n",
    "\n",
    "manifest_path = os.path.join(data_root,'allen-brain-observatory/visual-coding-neuropixels/ecephys-cache/manifest.json') \n",
    "cache = EcephysProjectCache.from_warehouse(manifest=manifest_path) #creates a cache object\n",
    "sessions = cache.get_session_table() #session_table is a pandas dataframe object that contains metadata about all sessions in the cache\n",
    "sessions.head() #show the first 5 rows of the dataframe object "
   ]
  },
  {
   "cell_type": "code",
   "execution_count": 5,
   "metadata": {},
   "outputs": [],
   "source": [
    "session_id = 715093703 #import a session id of interest\n",
    "session = cache.get_session_data(session_id) #creates a session object\n"
   ]
  },
  {
   "cell_type": "code",
   "execution_count": 6,
   "metadata": {},
   "outputs": [
    {
     "name": "stdout",
     "output_type": "stream",
     "text": [
      "[315.0 90.0 225.0 135.0 0.0 270.0 'null' 180.0 45.0]\n",
      "<class 'str'>\n"
     ]
    },
    {
     "data": {
      "text/plain": [
       "array([315.0, 90.0, 225.0, 135.0, 0.0, 270.0, 180.0, 45.0], dtype=object)"
      ]
     },
     "execution_count": 6,
     "metadata": {},
     "output_type": "execute_result"
    }
   ],
   "source": [
    "presentations = session.get_stimulus_table('drifting_gratings') #creates a stimulus table object for drifting gratings\n",
    "#print unique values of the stimulus table\n",
    "print(presentations['orientation'].unique())\n",
    "\n",
    "#what kind of type are each item in the unique values?\n",
    "print(type(presentations['orientation'].unique()[6]))\n",
    "\n",
    "#remove the null value from the unique values\n",
    "presentations = presentations[presentations['orientation'] != presentations['orientation'].unique()[6]]\n",
    "presentations['orientation'].unique()"
   ]
  },
  {
   "cell_type": "code",
   "execution_count": 7,
   "metadata": {},
   "outputs": [
    {
     "data": {
      "text/plain": [
       "Text(0.5, 1.0, 'peristimulus time histograms for VISp units on drifting gratings presentations')"
      ]
     },
     "execution_count": 7,
     "metadata": {},
     "output_type": "execute_result"
    },
    {
     "data": {
      "image/png": "[encoded data removed]",
      "text/plain": [
       "<Figure size 800x800 with 2 Axes>"
      ]
     },
     "metadata": {},
     "output_type": "display_data"
    }
   ],
   "source": [
    "session_id = 715093703 #import a session id of interest\n",
    "session = cache.get_session_data(session_id) #creates a session object\n",
    "\n",
    "presentations = session.get_stimulus_table('drifting_gratings') #creates a stimulus table object for drifting gratings\n",
    "presentations = presentations[presentations.orientation != 'null'] #removes the null orientation presentations\n",
    "region = \"VISp\" #specify the region of interest\n",
    "\n",
    "#units = session.units[session.units[\"ecephys_structure_acronym\"] == region] #creates a units table object for the region of interest\n",
    "\n",
    "time_step = 0.01 #in sessions \n",
    "pre_stim_window = -0.1 #in seconds\n",
    "window_duration = 0.5 #in seconds\n",
    "time_bins = np.arange(pre_stim_window, window_duration + time_step, time_step) #create an array of time bins for the window of interest \n",
    "\n",
    "spikes = session.presentationwise_spike_counts(\n",
    "    stimulus_presentation_ids = presentations.index.values, \n",
    "    bin_edges = time_bins, \n",
    "    unit_ids = session.units.query('snr > 2.5 & isi_violations < 0.5 & amplitude_cutoff < 0.1 & presence_ratio > 0.9 & ecephys_structure_acronym == @region').index.values\n",
    "    )\n",
    "\n",
    "# grab distinct orientations (directions)\n",
    "unique_orientations = presentations.orientation.unique()\n",
    "unique_orientations.sort() \n",
    "\n",
    "### calculate means_spikes \n",
    "\n",
    "mean_spikes = spikes.mean(dim=\"stimulus_presentation_id\")\n",
    "\n",
    "fig, ax = plt.subplots(figsize=(8, 8))\n",
    "im = ax.pcolormesh(\n",
    "    mean_spikes[\"time_relative_to_stimulus_onset\"], # x axis \n",
    "    np.arange(mean_spikes[\"unit_id\"].size), #arange for \n",
    "    mean_spikes.T, #transpose the matrix so that the units are on the y axis and time is on the x axis\n",
    "    vmin=0,\n",
    "    vmax=1\n",
    ")\n",
    "fig.colorbar(im, ax=ax)\n",
    "ax.set_ylabel(\"unit index\", fontsize=24)\n",
    "ax.set_xlabel(\"time relative to stimulus onset (s)\", fontsize=24)\n",
    "ax.set_title(\"peristimulus time histograms for VISp units on drifting gratings presentations\", fontsize=24)"
   ]
  },
  {
   "cell_type": "code",
   "execution_count": 8,
   "metadata": {},
   "outputs": [],
   "source": [
    "def get_spike_counts(session_id, region, window_duration):\n",
    "    \n",
    "    #to-do: \n",
    "        #update drifting_gratings can be changed to other stimuli for scaling purposes\n",
    "    \n",
    "    #input: session id, region of interest, window duration\n",
    "        #session id: int, specific session id of interest\n",
    "        #region of interest: string, specific region of interest\n",
    "        #window duration: float, duration of the window of interest in seconds\n",
    "        \n",
    "    #output: spike counts for the region of interest in xarray format where the dimensions are unit, time, and stimulus presentation id in that order\n",
    "    \n",
    "    #example: spikes = get_spike_counts(715093703, \"VISp\", 0.5) \n",
    "    \n",
    "    \n",
    "    session = cache.get_session_data(session_id) #creates a session object  \n",
    "    presentations = session.get_stimulus_table('drifting_gratings') #creates a stimulus table object for drifting gratings,  \n",
    "    \n",
    "    presentations = presentations[presentations.orientation != 'null'] #remove the null \n",
    "    time_step = 0.001 #in seconds \n",
    "    pre_stim_window = -0.1 #in seconds\n",
    "    \n",
    "    time_bins = np.arange(pre_stim_window, window_duration + time_step, time_step) #create an array of time bins for the window of interest \n",
    "    \n",
    "    #apply the .presentationwise_spike_counts method to the session object to get the spike counts for the region of interest \n",
    "    \n",
    "    spikes = session.presentationwise_spike_counts(\n",
    "        stimulus_presentation_ids = presentations.index.values, \n",
    "        bin_edges = time_bins, \n",
    "        unit_ids = session.units.query('snr > 2.5 & isi_violations < 0.5 & amplitude_cutoff < 0.1 & presence_ratio > 0.9 & ecephys_structure_acronym == @region').index.values\n",
    "        )\n",
    "    return spikes\n",
    "\n",
    "\n",
    "#test the function\n",
    "spikes = get_spike_counts(715093703, \"VISp\", 2)"
   ]
  },
  {
   "cell_type": "code",
   "execution_count": null,
   "metadata": {},
   "outputs": [],
   "source": [
    "spikes"
   ]
  },
  {
   "cell_type": "code",
   "execution_count": null,
   "metadata": {},
   "outputs": [],
   "source": [
    "#what are the unique unit_ids? in the spikes xarray\n",
    "spikes.unit_id.values\n",
    "spikes.time_relative_to_stimulus_onset.values\n",
    "print(spikes.stimulus_presentation_id.values)\n"
   ]
  },
  {
   "cell_type": "code",
   "execution_count": null,
   "metadata": {},
   "outputs": [],
   "source": [
    "pre_stimulus_start = -0.05\n",
    "pre_stimulus_end = 0\n",
    "post_stimulus_start = 0\n",
    "post_stimulus_end = 0.1\n",
    "\n",
    "df_list = [] # define an empty list to store the dictionaries\n",
    "\n",
    "for unit_id in spikes.unit_id.values.tolist():\n",
    "    for orientation in unique_orientations.tolist():\n",
    "        \n",
    "        trial_ids = presentations[presentations.orientation == orientation].index.values.tolist() #get the trial ids for the specific orientation\n",
    "        print(trial_ids)\n",
    "        #keep track and print the the total number of trials for each orientation\n",
    "        print(\"number of trials for orientation \" + str(orientation) + \" is \" + str(len(trial_ids)))\n",
    "        \n",
    "        # select the pre- and post-stimulus onset spikes for the specific orientation\n",
    "        pre_spikes = spikes.loc[{'unit_id': unit_id, 'stimulus_presentation_id': trial_ids, 'time_relative_to_stimulus_onset': slice(pre_stimulus_start, pre_stimulus_end)}]\n",
    "        post_spikes = spikes.loc[{'unit_id': unit_id, 'stimulus_presentation_id': trial_ids, 'time_relative_to_stimulus_onset': slice(post_stimulus_start, post_stimulus_end)}]\n",
    "        \n",
    "        # calculate the mean pre- and post-stimulus onset spikes for the specific orientation\n",
    "        pre_spikes_mean = pre_spikes.mean(dim='stimulus_presentation_id')\n",
    "        post_spikes_mean = post_spikes.mean(dim='stimulus_presentation_id')\n",
    "        \n",
    "        # calculate the number of trials for the specific orientation\n",
    "        num_trials = len(trial_ids)\n",
    "        \n",
    "        # normalize the mean pre- and post-stimulus onset spikes based on the number of trials\n",
    "        pre_spikes_mean_norm = pre_spikes_mean.values / num_trials\n",
    "        post_spikes_mean_norm = post_spikes_mean.values / num_trials\n",
    "        \n",
    "        #store the pre and post stimulus in a dictionary first, make the row index the trial id\n",
    "        df_dict = {'unit_id': unit_id, 'trial_id': trial_ids, 'orientation': orientation, 'pre_stimulus_mean': pre_spikes_mean_norm, 'post_stimulus_mean': post_spikes_mean_norm}\n",
    "        \n",
    "        #append the dictionary to the list\n",
    "        df_list.append(df_dict)        \n",
    "\n",
    "        \n",
    "        #print the pre and post stimulus onset spikes for each orientation for each unit\n",
    "        print(\"pre stimulus onset spikes for orientation \" + str(orientation) + \" for unit \" + str(unit_id) + \" is \" + str(pre_spikes_mean_norm))\n",
    "        print(\"post stimulus onset spikes for orientation \" + str(orientation) + \" for unit \" + str(unit_id) + \" is \" + str(post_spikes_mean_norm))\n",
    "        \n",
    "        #print the pre and post mean for each orientation for each unit\n",
    "        print(\"pre stimulus onset mean for orientation \" + str(orientation) + \" for unit \" + str(unit_id) + \" is \" + str(pre_spikes_mean.values))\n",
    "        print(\"post stimulus onset mean for orientation \" + str(orientation) + \" for unit \" + str(unit_id) + \" is \" + str(post_spikes_mean.values))\n",
    "        "
   ]
  },
  {
   "cell_type": "code",
   "execution_count": null,
   "metadata": {},
   "outputs": [],
   "source": [
    "pre_stimulus_start = -0.05\n",
    "pre_stimulus_end = 0\n",
    "post_stimulus_start = 0\n",
    "post_stimulus_end = 0.1\n",
    "\n",
    "df_list = [] # define an empty list to store the dictionaries\n",
    "\n",
    "for unit_id in spikes.unit_id.values.tolist():\n",
    "    for orientation in unique_orientations.tolist():\n",
    "        \n",
    "        trial_ids = presentations[presentations.orientation == orientation].index.values.tolist() #get the trial ids for the specific orientation\n",
    "        print(trial_ids)\n",
    "        #keep track and print the the total number of trials for each orientation\n",
    "        print(\"number of trials for orientation \" + str(orientation) + \" is \" + str(len(trial_ids)))\n",
    "        \n",
    "        # select the pre- and post-stimulus onset spikes for the specific orientation\n",
    "        pre_spikes = spikes.loc[{'unit_id': unit_id, 'stimulus_presentation_id': trial_ids, 'time_relative_to_stimulus_onset': slice(pre_stimulus_start, pre_stimulus_end)}]\n",
    "        post_spikes = spikes.loc[{'unit_id': unit_id, 'stimulus_presentation_id': trial_ids, 'time_relative_to_stimulus_onset': slice(post_stimulus_start, post_stimulus_end)}]\n",
    "        \n",
    "        # calculate the mean pre- and post-stimulus onset spikes for the specific orientation\n",
    "        pre_spikes_mean = pre_spikes.mean(dim='stimulus_presentation_id')\n",
    "        post_spikes_mean = post_spikes.mean(dim='stimulus_presentation_id')\n",
    "        \n",
    "        #store the pre and post stimulus in a dictionary first, make the row index the trial id\n",
    "        df_dict = {'unit_id': unit_id, 'trial_id': trial_ids, 'orientation': orientation, 'pre_stimulus_mean': pre_spikes_mean.values, 'post_stimulus_mean': post_spikes_mean.values}\n",
    "        \n",
    "        #append the dictionary to the list\n",
    "        df_list.append(df_dict)        \n",
    "\n",
    "        \n",
    "        #print the pre and post stimulus onset spikes for each orientation \n",
    "        print(\"pre stimulus onset spikes for orientation \" + str(orientation) + \" is \" + str(pre_spikes_mean.values))\n",
    "        print(\"post stimulus onset spikes for orientation \" + str(orientation) + \" is \" + str(post_spikes_mean.values))"
   ]
  },
  {
   "cell_type": "code",
   "execution_count": null,
   "metadata": {},
   "outputs": [],
   "source": [
    "#user input parameters \n",
    "pre = -0.05\n",
    "post = 0.1\n",
    "\n",
    "#creating a mask for using np.where \n",
    "pre_indices = np.where((spikes.time_relative_to_stimulus_onset.values >= pre) & (spikes.time_relative_to_stimulus_onset.values <0))[0] #np.where returns a list with two elements and only need first \n",
    "post_indices = np.where((spikes.time_relative_to_stimulus_onset.values >= 0 ) & (spikes.time_relative_to_stimulus_onset.values < post))[0] #np.where returns a list with two elements and only need first \n",
    "\n",
    "pre_spikes = spikes.loc[:, spikes.time_relative_to_stimulus_onset.values[pre_indices], :] #select the pre stimulus onset spikes\n",
    "post_spikes = spikes.loc[:, spikes.time_relative_to_stimulus_onset.values[post_indices], :] #select the post stimulus onset spikes\n",
    "\n",
    "pre_spikes_sum = pre_spikes.sum(dim=\"time_relative_to_stimulus_onset\") #sum the pre stimulus onset spikes\n",
    "post_spikes_sum = post_spikes.sum(dim=\"time_relative_to_stimulus_onset\") #sum the post stimulus onset spikes \n"
   ]
  },
  {
   "cell_type": "code",
   "execution_count": null,
   "metadata": {},
   "outputs": [],
   "source": [
    "#test the for loop on one unit_id\n",
    "unit_id = 950930697\n",
    "#create an empty list to store the dataframes\n",
    "df_list = [[]]\n",
    "for unit_id in spikes.unit_id.values:\n",
    "    for orientation in unique_orientations: \n",
    "        trial_ids = presentations[presentations.orientation == orientation].index.values #get the trial ids for the specific orientation\n",
    "        pre_stimulus_mean = pre_spikes_sum.loc[{'unit_id': unit_id, 'stimulus_presentation_id': trial_ids}].mean(dim=\"stimulus_presentation_id\").values #calculate the mean pre stimulus onset spikes\n",
    "        post_stimulus_mean = post_spikes_sum.loc[{'unit_id': unit_id, 'stimulus_presentation_id': trial_ids}].mean(dim=\"stimulus_presentation_id\").values #calculate the mean post stimulus onset spikes "
   ]
  },
  {
   "cell_type": "code",
   "execution_count": null,
   "metadata": {},
   "outputs": [],
   "source": [
    "import pandas as pd\n",
    "\n",
    "# initialize an empty list to store the dataframes for each orientation where columns are unit_id, orientation, pre_stimulus_mean, post_stimulus_mean when looping through each unit_id\n",
    "df_list = []\n",
    "\n",
    "\n",
    "for unit_id in spikes.unit_id.values.tolist():\n",
    "    for orientation in unique_orientations.tolist():\n",
    "        \n",
    "        trial_ids = presentations[presentations.orientation == orientation].index.values.tolist() #get the trial ids for the specific orientation\n",
    "        print(trial_ids)\n",
    "        #keep track and print the the total number of trials for each orientation\n",
    "        print(\"number of trials for orientation \" + str(orientation) + \" is \" + str(len(trial_ids)))\n",
    "        \n",
    "        # calculate the mean pre- and post-stimulus onset spikes for the specific orientation\n",
    "        pre_spikes_mean = spikes.loc[{'unit_id': unit_id, 'stimulus_presentation_id': trial_ids, 'time': slice(pre_stimulus_start, pre_stimulus_end)}].mean(dim='stimulus_presentation_id')\n",
    "        post_spikes_mean = spikes.loc[{'unit_id': unit_id, 'stimulus_presentation_id': trial_ids, 'time': slice(post_stimulus_start, post_stimulus_end)}].mean(dim='stimulus_presentation_id')\n",
    "        \n",
    "        #store the pre and post stimulus in a dictionary first \n",
    "        df_dict = {'unit_id': unit_id, 'orientation': orientation, 'pre_stimulus_mean': pre_spikes_mean.values, 'post_stimulus_mean': post_spikes_mean.values}\n",
    "        \n",
    "        #print the pre and post stimulus onset spikes for each orientation \n",
    "        print(\"pre stimulus onset spikes for orientation \" + str(orientation) + \" is \" + str(pre_spikes_mean.values))\n",
    "        print(\"post stimulus onset spikes for orientation \" + str(orientation) + \" is \" + str(post_spikes_mean.values))\n",
    "        \n",
    "        "
   ]
  },
  {
   "cell_type": "code",
   "execution_count": null,
   "metadata": {},
   "outputs": [],
   "source": [
    "pre_stimulus_mean.shape"
   ]
  },
  {
   "cell_type": "code",
   "execution_count": null,
   "metadata": {},
   "outputs": [],
   "source": [
    "#for each unit_id, for each unique orientaiton, calculate the mean pre and post and normalize based on the number of trials for each orientation\n",
    "for unit_id in spikes.unit_id.values:\n",
    "    for orientation in unique_orientations:\n",
    "        \n",
    "        trial_ids = presentations[presentations.orientation == orientation].index.values #get the trial ids for the specific orientation\n",
    "        \n",
    "        pre_stimulus_mean = pre_spikes_sum.loc[trial_ids, :, unit_id].mean() #calculate the mean pre stimulus onset spikes for the specific unit_id and orientation\n",
    "        post_stimulus_mean = post_spikes_sum.loc[trial_ids, :, unit_id].mean() #calculate the mean post stimulus onset spikes for the specific unit_id and orientation\n",
    "        \n",
    "        #store the pre and post stimulus onset means in a dataframe\n",
    "        df = pd.DataFrame({'unit_id': unit_id, 'orientation': orientation, 'pre_stimulus_mean': pre_stimulus_mean, 'post_stimulus_mean': post_stimulus_mean}, index=[0])\n",
    "        \n",
    "        #append the dataframe to a list\n",
    "        df_list.append(df)"
   ]
  },
  {
   "cell_type": "code",
   "execution_count": null,
   "metadata": {},
   "outputs": [],
   "source": [
    "session_id = 715093703 #import a session id of interest\n",
    "session = cache.get_session_data(session_id) #creates a session object\n",
    "session = cache.get_session_data(session_id) #creates a session object\n",
    "presentations = session.get_stimulus_table('drifting_gratings') #creates a stimulus table object for drifting gratings,  \n"
   ]
  },
  {
   "cell_type": "code",
   "execution_count": null,
   "metadata": {},
   "outputs": [],
   "source": [
    "unit_ids = session.units.query('snr > 2.5 & isi_violations < 0.5 & amplitude_cutoff < 0.1 & presence_ratio > 0.9 & ecephys_structure_acronym == @region').index.values.tolist()\n",
    "\n"
   ]
  },
  {
   "cell_type": "code",
   "execution_count": null,
   "metadata": {},
   "outputs": [],
   "source": [
    "for i, unit_id in enumerate(unit_ids): #for each unit id in the list of unit ids\n",
    "    for orientation in unique_orientations: #for each orientation\n",
    "        trial_ids = presentations[presentation.orientation == orientation].index.values #get the trial ids for the specific orientation \n",
    "        \n"
   ]
  },
  {
   "cell_type": "code",
   "execution_count": null,
   "metadata": {},
   "outputs": [],
   "source": [
    "\n"
   ]
  },
  {
   "cell_type": "code",
   "execution_count": null,
   "metadata": {},
   "outputs": [],
   "source": [
    "#calulate the mean spike counts for each unit across the the first 500ms post stimulus onset and store the result in in pandas where the row index are the unique units and the columns are the unique orientations \n",
    "mean_spikes = spikes.mean(dim=\"stimulus_presentation_id\")\n",
    "mean_spikes = mean_spikes.sel(time_relative_to_stimulus_onset=slice(0, 0.5)) \n",
    "mean_spikes \n",
    "\n",
    "#calcuulate the mean -100ms to 0ms and 0ms to 500ms spike counts for each unit and store the result in a pandas dataframe where the row index are the unique units and the columns are the unique orientations\n",
    "mean_spikes = spikes.mean(dim=\"stimulus_presentation_id\")\n",
    "#select the pre and post stimulus onset time bins and save them as variables\n",
    "pre_stimulus = mean_spikes.sel(time_relative_to_stimulus_onset=slice(-0.1, 0)) #select the pre stimulus onset time bins \n",
    "post_stimulus = mean_spikes.sel(time_relative_to_stimulus_onset=slice(0, 0.5))\n",
    "\n"
   ]
  },
  {
   "cell_type": "code",
   "execution_count": null,
   "metadata": {},
   "outputs": [],
   "source": [
    "presentations = presentations[presentations.orientation != 'null'] #remove the null \n",
    "\n",
    "\n",
    "#"
   ]
  },
  {
   "cell_type": "code",
   "execution_count": null,
   "metadata": {},
   "outputs": [],
   "source": [
    "session_id = 715093703 #import a session id of interest\n",
    "session = cache.get_session_data(session_id) #creates a session object\n",
    "#unit_ids = session.units.query('snr > 2.5 & isi_violations < 0.5 & amplitude_cutoff < 0.1 & presence_ratio > 0.9 & ecephys_structure_acronym == @region').index.values\n",
    "\n",
    "good_unit_table = session.units.query('snr > 2.5 & isi_violations < 0.5 & amplitude_cutoff < 0.1 & presence_ratio > 0.9 & ecephys_structure_acronym == @region') #creates a list of good units for the region of interest\n",
    "good_unit_list = session.units.query('snr > 2.5 & isi_violations < 0.5 & amplitude_cutoff < 0.1 & presence_ratio > 0.9 & ecephys_structure_acronym == @region').index.values.tolist() #creates a list of good units for the region of interest"
   ]
  },
  {
   "cell_type": "code",
   "execution_count": null,
   "metadata": {},
   "outputs": [],
   "source": [
    "#grab the first unit and isolate the waveform_duration \n",
    "unit_id = good_unit_list[0]\n",
    "unit = session.units.loc[unit_id]\n",
    "waveform_duration = unit.waveform_duration\n",
    "waveform_duration\n",
    "\n",
    "#do the above with pandas to create a column if the value is greater than 0.4 it receives the label RS and if it is less than 0.4 it receives the label FS\n",
    "good_unit_table['cell_type'] = np.where(good_unit_table['waveform_duration'] > 0.4, 'RS', 'FS') #creates a new column in the good unit table that labels the units as RS or FS based on the waveform duration, \n",
    "#if the waveform duration is greater than 0.4 it is labeled as RS and if it is less than 0.4 it is labeled as FS\n",
    "\n",
    "good_unit_table\n",
    "\n",
    "#count the total number of FS and RS units in the good unit table\n",
    "\n",
    "good_unit_table['cell_type'].value_counts()\n",
    "\n",
    "#what are the column names in the good unit table?\n",
    "print(good_unit_table.columns)\n",
    "\n",
    "\n",
    "\n"
   ]
  },
  {
   "cell_type": "code",
   "execution_count": null,
   "metadata": {},
   "outputs": [],
   "source": [
    "presentations[\"temporal_frequency\"].unique()"
   ]
  },
  {
   "cell_type": "code",
   "execution_count": null,
   "metadata": {},
   "outputs": [],
   "source": [
    "def get_spikes_append_waveformlabels_2_unit_table(session_id, region):\n",
    "     \n",
    "     #input: session id, region of interest\n",
    "        #session id: int, specific session id of interest\n",
    "        #region of interest: string, specific region of interest\n",
    "        \n",
    "    #output: good unit table with the cell type column\n",
    "    #example: good_unit_table = get_spikes_append_waveformlabels(715093703, \"VISp\")\n",
    "    \n",
    "    session = cache.get_session_data(session_id) #creates a session object\n",
    "    good_unit_table = session.units.query('snr > 2.5 & isi_violations < 0.5 & amplitude_cutoff < 0.1 & presence_ratio > 0.9 & ecephys_structure_acronym == @region') #creates a list of good units for the region of interest\n",
    "    good_unit_table['cell_type'] = np.where(good_unit_table['waveform_duration'] > 0.4, 'RS', 'FS') #creates a new column in the good unit table that labels the units as RS or FS based on the waveform duration,\n",
    "    #if the waveform duration is greater than 0.4 it is labeled as RS and if it is less than 0.4 it is labeled as FS\n",
    "    \n",
    "    return good_unit_table\n",
    "\n",
    "#test the function\n",
    "good_unit_table = get_spikes_append_waveformlabels_2_unit_table(session_id, region)"
   ]
  },
  {
   "cell_type": "code",
   "execution_count": null,
   "metadata": {},
   "outputs": [],
   "source": [
    "#print the the number of FS and RS units in the good unit table\n",
    "print(good_unit_table['cell_type'].value_counts()) #print the number of FS and RS units in the good unit table"
   ]
  },
  {
   "cell_type": "code",
   "execution_count": null,
   "metadata": {},
   "outputs": [],
   "source": [
    "def get_ecephyssession_units_object(session_id, region): \n",
    "    \n",
    "    #input: session id, region of interest\n",
    "        #session id: int, specific session id of interest\n",
    "        #region of interest: string, specific region of interest\n",
    "        \n",
    "    #output: session object\n",
    "    \n",
    "    #example: test_session = get_ecephyssession_object(715093703, \"VISp\")\n",
    "    \n",
    "    session_units = cache.get_units.query(session_id) #creates a session object  \n",
    "    \n",
    "    passed_qc_unit_ids = session_units.query('snr > 2.5 & isi_violations < 0.5 & amplitude_cutoff < 0.1 & presence_ratio > 0.9 & ecephys_structure_acronym == @region').index.values.tolist() #creates a list of unit ids that passed qc\n",
    "    \n",
    "    \n",
    "    return passed_qc_unit_ids\n",
    "\n",
    "\n",
    "#test the function\n",
    "test = get_ecephyssession_units_object(715093703, \"VISp\")\n",
    "    \n",
    "    "
   ]
  },
  {
   "cell_type": "code",
   "execution_count": null,
   "metadata": {},
   "outputs": [],
   "source": [
    "\n",
    "\n",
    "plt.show()"
   ]
  },
  {
   "cell_type": "code",
   "execution_count": null,
   "metadata": {},
   "outputs": [],
   "source": [
    "unit_ids = session.units.query('snr > 2.5 & isi_violations < 0.5 & amplitude_cutoff < 0.1 & presence_ratio > 0.9 & ecephys_structure_acronym == @region').index.values\n",
    "# conver the unit_ids to a list of values\n",
    "unit_ids = unit_ids.tolist()"
   ]
  },
  {
   "cell_type": "code",
   "execution_count": null,
   "metadata": {},
   "outputs": [],
   "source": [
    "fig, ax = plt.subplots(len(unit_ids), 1, figsize=(10, 30))\n",
    "\n",
    "for i, unit_id in enumerate(unit_ids):\n",
    "    for orientation in unique_orientations: \n",
    "        trial_ids = presentations[presentations.orientation == orientation].index.values        \n",
    "        data = spikes.loc[trial_ids, :, unit_id]\n",
    "        mean = data.mean(dim=\"stimulus_presentation_id\")\n",
    "        ax[i].plot(data[\"time_relative_to_stimulus_onset\"], mean, label=orientation)\n",
    "    ax[i].legend()\n",
    "    ax[i].set_xlabel(\"time relative to stimulus onset\")\n",
    "    ax[i].set_ylabel(\"spike count in bin\")\n",
    "    ax[i].set_title(f\"unit {unit_id} mean spike counts by stimulus grating direction\")"
   ]
  },
  {
   "cell_type": "code",
   "execution_count": null,
   "metadata": {},
   "outputs": [],
   "source": [
    "all_areas = [] \n",
    "\n",
    "for index, row in sessions.iterrows(): \n",
    "    for a in row.ecephys_structure_acronyms: \n",
    "        if a not in all_areas: \n",
    "            all_areas.append(a)\n",
    "            \n",
    "print(all_areas)"
   ]
  },
  {
   "cell_type": "code",
   "execution_count": null,
   "metadata": {},
   "outputs": [],
   "source": [
    "#provide the number of unique specimens in the session table\n",
    "print('Number of unique specimens in the session table: ' + str(len(sessions.specimen_id.unique())))\n",
    "#count the number of unique full_genotype values in the session table\n",
    "print('Number of unique full_genotype values in the session table: ' + str(len(sessions.full_genotype.unique())))\n",
    "#provide the number of unique session_type values in the session table\n",
    "print(cache.get_all_session_types())\n",
    "#for each unique full_genotype value, count the number of sessions with that value\n",
    "print('Number of sessions with each unique full_genotype value:')\n",
    "print(sessions.full_genotype.value_counts())"
   ]
  },
  {
   "cell_type": "code",
   "execution_count": null,
   "metadata": {},
   "outputs": [],
   "source": [
    "# create a brain_observatory_type_sessions dataframe\n",
    "brain_observatory_type_sessions = sessions[sessions[\"session_type\"] == \"brain_observatory_1.1\"]\n",
    "\n",
    "#for each unique full_genotype value, count the number of sessions with that value\n",
    "print('Number of sessions with each unique full_genotype value:')\n",
    "print(brain_observatory_type_sessions.full_genotype.value_counts())"
   ]
  },
  {
   "cell_type": "code",
   "execution_count": null,
   "metadata": {},
   "outputs": [],
   "source": [
    "\n",
    "presentations = session.get_stimulus_table('drifting_gratings') #creates a stimulus table object for drifting gratings\n",
    "presentations = presentations[presentations.orientation != 'null'] #removes the null orientation presentations\n",
    "region = 'VISp'#specify the region of interest\n",
    "units = session.units[session.units[\"ecephys_structure_acronym\"] == region] #creates a units table object for the region of interest\n",
    "\n",
    "\n",
    "time_step = 0.05 #in sessions \n",
    "pre_stim_window = -0.1 #in seconds\n",
    "window_duration = 0.5 #in seconds\n",
    "time_bins = np.arange(pre_stim_window, window_duration + time_step, time_step) #create an array of time bins for the window of interest \n",
    "\n",
    "#session.units.query(\"snr > 2.5 & isi_violations < 0.5 & amplitude_cutoff < 0.1 & presence_ratio > 0.9\") #query the units table to find units that pass QC criteria which are stored as columns in the units table\n",
    "# the QC criteria are: snr is greater than 2.5, isi_violations is less than 0.5, amplitude_cutoff is less than 0.1, and presence_ratio is greater than 0.9 \n",
    "\n",
    "spikes = session.presentationwise_spike_counts(\n",
    "    stimulus_presentation_ids = presentations.index.values, \n",
    "    bin_edges = time_bins, \n",
    "    unit_ids = session.units.query(\"snr > 2.5 & isi_violations < 0.5 & amplitude_cutoff < 0.1 & presence_ratio > 0.9 and ece \").index.values\n",
    "    )\n"
   ]
  },
  {
   "cell_type": "code",
   "execution_count": null,
   "metadata": {},
   "outputs": [],
   "source": [
    "session.units"
   ]
  },
  {
   "cell_type": "code",
   "execution_count": null,
   "metadata": {},
   "outputs": [],
   "source": [
    "session.structurewise_unit_counts #gives the number of units in each brain area for a given session"
   ]
  },
  {
   "cell_type": "code",
   "execution_count": null,
   "metadata": {},
   "outputs": [],
   "source": [
    "presentations = session.get_stimulus_table('drifting_gratings') #creates a stimulus table object for drifting gratings\n",
    "\n",
    "presentations = presentations[presentations.orientation != 'null'] #removes the null orientation presentations\n",
    "\n",
    "region = VISp' #specify the region of interest\n",
    "time_step = 0.05 #in sessions \n",
    "pre_stim_window = -0.1 #in seconds\n",
    "window_duration = 0.5 #in seconds\n",
    "time_bins = np.arange(pre_stim_window, window_duration + time_step, time_step) #create an array of time bins for the window of interest \n",
    "\n",
    "#selects only VISp units \n",
    "units_good = session.units[session.units['ecephys_structure_acronym'] == region]\n",
    "\n",
    "# use SDK to count spikes into bins \n",
    "spikes = session.presentationwise_spike_counts(\n",
    "    stimulus_presentation_ids=presentations.index.values,\n",
    "    bin_edges=time_bins, \n",
    "    unit_ids=units.index.values\n",
    ")\n"
   ]
  },
  {
   "cell_type": "code",
   "execution_count": null,
   "metadata": {},
   "outputs": [],
   "source": [
    "#store the unique id values of the sessions in the brain_observatory_type_sessions dataframe in a list \n",
    "session_ids = brain_observatory_type_sessions.index.values.tolist()\n",
    "\n",
    "#session_ids is a list of session ids in the brain_observatory_type_sessions dataframe\n",
    "\n",
    "print('Number of sessions in the brain_observatory_type_sessions dataframe: ' + str(len(session_ids)))\n"
   ]
  },
  {
   "cell_type": "code",
   "execution_count": null,
   "metadata": {},
   "outputs": [],
   "source": [
    "#create a function that will take in session id and allow the user to access the meta data for that session \n",
    "def get_session_data(session_id):\n",
    "    session_metadata = cache.get_session_data(session_id).metadata\n",
    "    return session_metadata "
   ]
  },
  {
   "cell_type": "code",
   "execution_count": null,
   "metadata": {},
   "outputs": [],
   "source": [
    "specific_id = session_1.get('ecephys_session_id') #use the get method to access the value associated with the key 'ecephys_session_id'\n",
    "\n",
    "#print the value associated with the key 'ecephys_session_id'\n",
    "print('ecephys_session_id for the first index of session_1: ' + str(session_1.get('ecephys_session_id')))"
   ]
  },
  {
   "cell_type": "code",
   "execution_count": null,
   "metadata": {},
   "outputs": [],
   "source": [
    "#using the specific session id, access the session data for that session \n",
    "session_1_data = cache.get_session_data(specific_id)\n",
    "\n",
    "#how many units are there in the session table?\n",
    "print('Number of units in the session table: ' + str(len(session_1_data.units)))"
   ]
  },
  {
   "cell_type": "code",
   "execution_count": null,
   "metadata": {},
   "outputs": [],
   "source": [
    "dg = session_1_data.get_stimulus_table('drifting_gratings')\n",
    "dg[dg.orientation == 90]"
   ]
  },
  {
   "cell_type": "code",
   "execution_count": null,
   "metadata": {},
   "outputs": [],
   "source": [
    "#define regions of interest \n",
    "region_of_interest = ['VISp']; #visual cortex, primary, will be used for now and will be a list of strings \n",
    "\n",
    "#prepare the time bins for computing the PSTH \n",
    "time_step = 0.05 # in seconds, will be a user input later \n",
    "pre_time = -0.5 # in seconds, will be a user input later\n",
    "time_bins = np.arange(pre_time, 1.5, time_step) #will be a user input later, pre_time is the start of the time bins, 1.5 is the end of the time bins, time_step is the step size between each time bin \n",
    "\n",
    "session_1_data.structurewise_unit_counts #this is a pandas dataframe object that contains the number of units in each brain area for the session\n",
    "\n",
    "temporal_freqs = session_1_data.get_stimulus_table('drifting_gratings')['temporal_frequency'].unique()"
   ]
  },
  {
   "cell_type": "code",
   "execution_count": null,
   "metadata": {},
   "outputs": [],
   "source": [
    "session_1_data.unit?"
   ]
  },
  {
   "cell_type": "code",
   "execution_count": null,
   "metadata": {},
   "outputs": [],
   "source": [
    "presentations = session_1_data.get_stimulus_table([\"drifting_gratings\"]) #this is a pandas dataframe object that contains the stimulus table for drifting gratings\n",
    "print(presentations['orientation'].unique()) #this prints the unique orientation values in the stimulus table for drifting gratings\n",
    "\n",
    "presentations\n",
    "\n",
    "\n",
    "def sort_orientation_and_temporal_freq(session_data): \n",
    "    #'sort_orientation_and_temporal_freq' will sort the stimulus table for drifting gratings by orientation and temporal frequency values\n",
    "    \n",
    "    #input: session_data, a session data object from the AllenSDK of a single session\n",
    "    #output: a sorted stimulus table for drifting gratings\n",
    "    \n",
    "    #create a list of unique orientation values in the stimulus table\n",
    "    presentations = session_data.get_stimulus_table('drifting_gratings')['orientation'].unique() \n",
    "\n",
    "    #create a list of unique temporal frequency values in the stimulus table\n",
    "    temporal_freqs = session_data.get_stimulus_table('drifting_gratings')['temporal_frequency'].unique()\n",
    "    \n",
    "    #sort the dataframe for each unique combination of orientation and temporal frequency values\n",
    "    for orientation in presentations: #iterate over each unique orientation value in the stimulus table\n",
    "        for temporal_freq in temporal_freqs: #iterate over each unique temporal frequency value in the stimulus table \n",
    "    "
   ]
  },
  {
   "cell_type": "code",
   "execution_count": null,
   "metadata": {},
   "outputs": [],
   "source": [
    "print(f'{session_1_data.units.shape[0]} units total') #print the number of units in the session table\n",
    "units_with_very_high_snr = session_1_data.units[session_1_data.units['snr'] > 4] #create a dataframe of units with snr > 4\n",
    "print(f'{units_with_very_high_snr.shape[0]} units have snr > 4') #print the number of units with snr > 4\n",
    "\n",
    "#plot the distribution of snr values for all units in the session table \n",
    "plt.hist(session_1_data.units['snr'], bins=100)\n",
    "plt.xlabel('snr')\n",
    "plt.ylabel('number of units')\n",
    "plt.title('Distribution of snr values for all units in the session table')\n",
    "plt.show()\n",
    "\n",
    "#test for bimodality of snr values in the session table\n",
    "from scipy.stats import kstest\n",
    "kstest(session_1_data.units['snr'], 'norm') #if the p-value is less than 0.05, then the distribution is not normal\n",
    "\n",
    "#plot the distribution of snr values for units with snr > 4\n",
    "plt.hist(units_with_very_high_snr['snr'], bins=100)\n",
    "plt.xlabel('snr')\n",
    "plt.ylabel('number of units')\n",
    "plt.title('Distribution of snr values for units with snr > 4')\n",
    "plt.show()\n",
    "\n",
    "#test for bimodality of snr values for units with snr > 4 \n",
    "kstest(units_with_very_high_snr['snr'], 'norm') #if the p-value is less than 0.05, then the distribution is not normal\n",
    "\n"
   ]
  },
  {
   "cell_type": "code",
   "execution_count": null,
   "metadata": {},
   "outputs": [],
   "source": [
    "#create a function that will iterate over the session_ids list, access the session data for each session id, and store the snr values for each session \n",
    "# pandas dataframe \n",
    "\n",
    "def get_snr_values(session_ids):\n",
    "    snr_values = pd.DataFrame(columns=['session_id', 'unit_id', 'snr']) #create an empty pandas dataframe with columns 'session_id', 'unit_id', and 'snr'\n",
    "    \n",
    "    for session_id in session_ids: #iterate over the session_ids list\n",
    "        session_data = cache.get_session_data(session_id) #access the session data for each session id\n",
    "        session_units = session_data.units[['snr']] #create a dataframe with the snr values for each unit in the session\n",
    "        session_units['unit_id'] = session_units.index #add a column 'unit_id' with the index values of the session_units dataframe\n",
    "        session_units['session_id'] = session_id #add a column 'session_id' with the current session_id value\n",
    "        session_units = session_units[['session_id', 'unit_id', 'snr']] #reorder the columns of the session_units dataframe\n",
    "        snr_values = snr_values.append(session_units) #append the session_units dataframe to the snr_values dataframe\n",
    "    return snr_values\n",
    "\n",
    "#use the function to create a dataframe with the snr values for each unit in the session table\n",
    "snr_values = get_snr_values(session_ids)\n",
    "\n",
    "#plot the distribution of snr values for all units in the session table\n",
    "plt.hist(snr_values['snr'], bins=100) #took 39m to run "
   ]
  },
  {
   "cell_type": "code",
   "execution_count": null,
   "metadata": {},
   "outputs": [],
   "source": [
    "#save the snr_values dataframe as a csv file to the current working directory\n",
    "snr_values.to_csv('snr_values_allunits.csv', index=False) "
   ]
  },
  {
   "cell_type": "code",
   "execution_count": null,
   "metadata": {},
   "outputs": [],
   "source": [
    "# We're going to build an array of spike counts surrounding stimulus presentation onset\n",
    "# To do that, we will need to specify some bins (in seconds, relative to stimulus onset)\n",
    "time_bin_edges = np.linspace(-0.01, 0.4, 200)\n",
    "\n",
    "# do the the above but for the sessin_1 data\n",
    "flash_250_ms_stimulus_presentation_ids = session_1_data.stimulus_presentations[\n",
    "    session_1_data.stimulus_presentations['stimulus_name'] == 'flashes'\n",
    "].index.values\n",
    "\n",
    "# and get a set of units with only decent snr\n",
    "decent_snr_unit_ids = session_1_data.units[\n",
    "    session_1_data.units['snr'] >= 1.5\n",
    "].index.values\n",
    "\n",
    "spike_counts_da = session_1_data.presentationwise_spike_counts(\n",
    "    bin_edges=time_bin_edges,\n",
    "    stimulus_presentation_ids=flash_250_ms_stimulus_presentation_ids,\n",
    "    unit_ids=decent_snr_unit_ids\n",
    ")\n",
    "\n",
    "spike_counts_da \n",
    "\n",
    "#determine the number of unique units in the spike_counts_da dataframe\n",
    "print('Number of unique units in the spike_counts_da dataframe: ' + str(len(spike_counts_da.unit_id.unique())))\n"
   ]
  },
  {
   "cell_type": "code",
   "execution_count": null,
   "metadata": {},
   "outputs": [],
   "source": [
    "mean_spike_counts = spike_counts_da.mean(dim='stimulus_presentation_id')\n",
    "mean_spike_counts"
   ]
  },
  {
   "cell_type": "code",
   "execution_count": null,
   "metadata": {},
   "outputs": [],
   "source": [
    "from allensdk.brain_observatory.ecephys.visualization import plot_mean_waveforms, plot_spike_counts, raster_plot\n",
    "\n",
    "plot_spike_counts(\n",
    "    mean_spike_counts,\n",
    "    mean_spike_counts['time_relative_to_stimulus_onset'],\n",
    "    'mean spike count',\n",
    "    'mean spike counts on flash_250_ms presentations'\n",
    ")\n",
    "plt.show() "
   ]
  },
  {
   "cell_type": "code",
   "execution_count": null,
   "metadata": {},
   "outputs": [],
   "source": [
    "# use the session_1 data\n",
    "units_of_interest = decent_snr_unit_ids[:35] #take the first 35 units with decent snr values\n",
    "\n",
    "waveforms = {uid: session_1_data.mean_waveforms[uid] for uid in units_of_interest} #create a dictionary with the mean waveform for each unit of interest \n",
    "peak_channels = {uid: session_1_data.units.loc[uid, 'peak_channel_id'] for uid in units_of_interest} #create a dictionary with the peak channel for each unit of interest\n",
    "\n",
    "# plot the mean waveform on each unit's peak channel for each unit of interest\n",
    "plot_mean_waveforms(waveforms, units_of_interest, peak_channels) \n",
    "plt.show()\n"
   ]
  },
  {
   "cell_type": "code",
   "execution_count": null,
   "metadata": {},
   "outputs": [],
   "source": [
    "#plot the first waveform in the waveforms dictionary to visualize how the trough to peak amplitude is calculated \n",
    "plt.plot(waveforms[units_of_interest[0]].values[0])\n",
    "plt.xlabel('sample number')\n",
    "plt.ylabel('amplitude (microvolts)')\n",
    "plt.title('First waveform in the waveforms dictionary')\n",
    "plt.show()\n",
    "\n",
    "#now overlay what the trough and peak values are on the first waveform in the waveforms dictionary\n",
    "plt.plot(waveforms[units_of_interest[0]].values[0])\n",
    "plt.axhline(y=waveforms[units_of_interest[0]].values[0].min(), color='r', linestyle='-')\n",
    "plt.axhline(y=waveforms[units_of_interest[0]].values[0].max(), color='g', linestyle='-')\n",
    "plt.xlabel('sample number')\n",
    "plt.ylabel('amplitude (microvolts)')\n",
    "plt.title('First waveform in the waveforms dictionary with trough and peak values')\n",
    "plt.show()\n",
    "\n"
   ]
  },
  {
   "cell_type": "code",
   "execution_count": null,
   "metadata": {},
   "outputs": [],
   "source": [
    "#lets develop a function that will allow me to perform calculations on the waveforms dictionary \n",
    "def get_waveform_values(waveforms, units_of_interest):\n",
    "        #create an empty pandas dataframe with columns 'unit_id', 'trough_to_peak_amplitude', 'trough_to_peak_time', 'trough_time', 'peak_time', 'trough_amplitude', and 'peak_amplitude'\n",
    "        waveform_values = pd.DataFrame(columns=['unit_id', 'trough_to_peak_amplitude', 'trough_to_peak_time', 'trough_time', 'peak_time', 'trough_amplitude', 'peak_amplitude'])\n",
    "        \n",
    "        for unit_id in units_of_interest: #iterate over the units_of_interest list\n",
    "            #normalize the wave form for each unit in the waveforms dictionary based on absolute min value\n",
    "            normalized_waveform = waveforms[unit_id].values[0] - waveforms[unit_id].values[0].min()\n",
    "            \n",
    "            #plot the normalized waveform for each unit in the waveforms dictionary\n",
    "            "
   ]
  },
  {
   "cell_type": "code",
   "execution_count": null,
   "metadata": {},
   "outputs": [],
   "source": [
    "#grab the first waveform in the waveforms dictionary to test the function\n",
    "waveform = waveforms[units_of_interest[0]].values[0]\n",
    "\n",
    "#find the max absolute in the waveform and then divide the waveform by that value\n",
    "normalized_waveform = waveform / np.max(np.abs(waveform)) #normalize the waveform based on absolute max value \n",
    "\n",
    "#plot the normalized waveform and the original waveform\n",
    "\n",
    "plt.plot(normalized_waveform)\n",
    "plt.xlabel('sample number')\n",
    "plt.ylabel('amplitude (microvolts)')\n",
    "plt.title('Normalized waveform and original waveform')\n",
    "plt.show()\n",
    "\n",
    "\n"
   ]
  },
  {
   "cell_type": "code",
   "execution_count": null,
   "metadata": {},
   "outputs": [],
   "source": [
    "#grab the first waveform in the waveforms dictionary to test the function\n",
    "waveform = waveforms[units_of_interest[0]].values[0]\n",
    "\n",
    "#find the max absolute in the waveform and then divide the waveform by that value\n",
    "normalized_waveform = waveform / np.max(np.abs(waveform)) #normalize the waveform based on absolute max value \n",
    "\n",
    "# Normalizing\n",
    "trough_location = np.where(normalized_waveform == np.min(normalized_waveform))[0][0]\n",
    "max_after_trough = np.max(normalized_waveform[trough_location:])\n",
    "max_after_trough_location = np.where(normalized_waveform == max_after_trough)[0][0]\n",
    "max_before_trough = np.max(normalized_waveform[:trough_location])\n",
    "max_before_trough_location = np.where(normalized_waveform == max_before_trough)[0][0]\n",
    "difference = (max_after_trough_location - trough_location)/30 # ms trough to peak\n",
    "\n",
    "#based on the normalize waveform, plot each of the values that will be calculated in the function on the waveform\n",
    "plt.plot(normalized_waveform)\n",
    "#add the name of the variable and the value of the variable to the plot\n",
    "plt.text(0, 0.8, 'trough_location = ' + str(trough_location))\n",
    "\n",
    "plt.axvline(x=trough_location, color='r', linestyle='-')\n",
    "plt.axvline(x=max_after_trough_location, color='g', linestyle='-')\n",
    "\n",
    "plt.xlabel('sample number')\n",
    "plt.ylabel('amplitude (microvolts)')\n",
    "plt.title('Normalized waveform with trough and peak values')\n",
    "plt.show()\n",
    "\n",
    "    "
   ]
  },
  {
   "cell_type": "code",
   "execution_count": null,
   "metadata": {},
   "outputs": [],
   "source": [
    "#the levels of the dictionary are: session_id, unit_id and within unit_id, there are the following keys: 'trough_to_peak_amplitude', 'trough_to_peak_time', 'trough_time', 'peak_time', 'trough_amplitude', and 'peak_amplitude' 'raw_waveform', \n",
    "# 'normalized_waveform', 'cell_type' \n",
    "\n",
    "#create the dictinoary where the first level are the unqiue session ids where the key is the session id and the value is a dictionary where the key is the unique unit id and the value is a dictionary \n",
    "# where where the keys are 'trough_to_peak_amplitude', 'trough_to_peak_time', 'trough_time', 'peak_time', 'trough_amplitude', and 'peak_amplitude' 'raw_waveform', \n",
    "# 'normalized_waveform', 'cell_type' \n",
    "\n",
    "waveform_values = {session_id: {unit_id: {'trough_to_peak_amplitude': None, 'trough_to_peak_time': None, 'trough_time': None, 'peak_time': None, 'trough_amplitude': None, 'peak_amplitude': None, 'raw_waveform': None, 'normalized_waveform': None, 'cell_type': None} for unit_id in units_of_interest} for session_id in session_ids}\n",
    "         "
   ]
  },
  {
   "cell_type": "code",
   "execution_count": null,
   "metadata": {},
   "outputs": [],
   "source": [
    "#what are the unique number of session ids in the waveform_values dictionary?\n",
    "print('Number of unique session ids in the waveform_values dictionary: ' + str(len(waveform_values.keys())))\n"
   ]
  },
  {
   "cell_type": "code",
   "execution_count": null,
   "metadata": {},
   "outputs": [],
   "source": [
    "#grab the first waveform in the waveforms dictionary to test the function\n",
    "waveform = waveforms[units_of_interest[0]].values[0]\n",
    "\n",
    "#find the max absolute in the waveform and then divide the waveform by that value\n",
    "normalized_waveform = waveform / np.max(np.abs(waveform)) #normalize the waveform based on absolute max value \n",
    "\n",
    "# Normalizing\n",
    "trough_location = np.where(normalized_waveform == np.min(normalized_waveform))[0][0]\n",
    "max_after_trough = np.max(normalized_waveform[trough_location:])\n",
    "max_after_trough_location = np.where(normalized_waveform == max_after_trough)[0][0]\n",
    "max_before_trough = np.max(normalized_waveform[:trough_location])\n",
    "max_before_trough_location = np.where(normalized_waveform == max_before_trough)[0][0]\n",
    "difference = (max_after_trough_location - trough_location)/30 # ms trough to peak\n",
    "\n",
    "#create a function to iterative enter the dictionary waveforms_values with the values for each unit of interest and use this key to access session_1_data.units \n",
    "def get_waveform_from_all_sessions(input_dict):\n",
    "    #iterate over the keys in the input_dict\n",
    "    for session_id in input_dict.keys():\n",
    "        #iterate over the the cell ids in the input_dict\n",
    "        for unit_id in input_dict[session_id].keys(): \n",
    "            \n",
    "            #store the mean waveform within in 'raw_waveform' key \n",
    "            input_dict[session_id][unit_id]['raw_waveform'] = session_1_data.mean_waveforms[unit_id].values[0]\n",
    "            \n",
    "            #find the max absolute in the waveform and then divide the waveform by that value\n",
    "            normalized_waveform = input_dict[session_id][unit_id]['raw_waveform'] / np.max(np.abs(input_dict[session_id][unit_id]['raw_waveform'])) #normalize the waveform based on absolute max value\n",
    "            \n",
    "            #store the normalized waveform within the 'normalized_waveform' key\n",
    "            input_dict[session_id][unit_id]['normalized_waveform'] = normalized_waveform\n",
    "            \n",
    "            #perform calculations on the normalized waveform to find the trough_to_peak_amplitude, trough_to_peak_time, trough_time, peak_time, trough_amplitude, and peak_amplitude\n",
    "            trough_location = np.where(normalized_waveform == np.min(normalized_waveform))[0][0]\n",
    "            max_after_trough = np.max(normalized_waveform[trough_location:])\n",
    "            max_after_trough_location = np.where(normalized_waveform == max_after_trough)[0][0]\n",
    "            max_before_trough = np.max(normalized_waveform[:trough_location])\n",
    "            max_before_trough_location = np.where(normalized_waveform == max_before_trough)[0][0]\n",
    "            difference = (max_after_trough_location - trough_location)/30 # ms trough to peak\n",
    "            \n",
    "            #store the trough_to_peak_amplitude, trough_to_peak_time, trough_time, peak_time, trough_amplitude, and peak_amplitude values within the input_dict\n",
    "            input_dict[session_id][unit_id]['trough_to_peak_amplitude'] = difference\n",
    "            input_dict[session_id][unit_id]['trough_to_peak_time'] = difference\n",
    "            input_dict[session_id][unit_id]['trough_time'] = trough_location\n",
    "            input_dict[session_id][unit_id]['peak_time'] = max_after_trough_location\n",
    "            input_dict[session_id][unit_id]['trough_amplitude'] = max_before_trough\n",
    "            input_dict[session_id][unit_id]['peak_amplitude'] = max_after_trough\n",
    "            \n",
    "            #classify the cell type based on difference value \n",
    "            if difference < 0.4:\n",
    "                input_dict[session_id][unit_id]['cell_type'] = 'FS'\n",
    "            elif difference > 0.4:\n",
    "                input_dict[session_id][unit_id]['cell_type'] = 'RS'\n",
    "            \n",
    "    return input_dict\n",
    "\n",
    "#pull out the first session id in the waveform_values dictionary to test the function\n",
    "session_id = list(waveform_values.keys())[0]\n",
    "\n",
    "#use this session id to test the function \n",
    "waveform_values_test = get_waveform_from_all_sessions({session_id: waveform_values[session_id]})\n",
    "\n",
    "#access the content of the session_id key in the waveform_values_test dictionary\n",
    "waveform_values_test[session_id]\n",
    "\n",
    "#plot the normalized waveform for the first unit in the session_id key in the waveform_values_test dictionary\n",
    "plt.plot(waveform_values_test[session_id][units_of_interest[0]]['normalized_waveform'])\n",
    "plt.xlabel('sample number')\n",
    "plt.ylabel('amplitude (microvolts)')\n",
    "plt.title('Normalized waveform for the first unit in the session_id key in the waveform_values_test dictionary')\n",
    "plt.show()\n",
    "\n",
    "#what are the number of keys in the first entry of the session_id key in the waveform_values_test dictionary?\n",
    "print('Number of keys in the first entry of the session_id key in the waveform_values_test dictionary: ' + str(len(waveform_values_test[session_id][units_of_interest[0]].keys())))            \n",
    "            \n",
    "            \n",
    "            \n",
    "            "
   ]
  },
  {
   "cell_type": "code",
   "execution_count": null,
   "metadata": {},
   "outputs": [],
   "source": [
    "#proceed to use the function "
   ]
  }
 ],
 "metadata": {
  "kernelspec": {
   "display_name": "swdb2023",
   "language": "python",
   "name": "python3"
  },
  "language_info": {
   "codemirror_mode": {
    "name": "ipython",
    "version": 3
   },
   "file_extension": ".py",
   "mimetype": "text/x-python",
   "name": "python",
   "nbconvert_exporter": "python",
   "pygments_lexer": "ipython3",
   "version": "3.8.17"
  },
  "orig_nbformat": 4
 },
 "nbformat": 4,
 "nbformat_minor": 2
}
