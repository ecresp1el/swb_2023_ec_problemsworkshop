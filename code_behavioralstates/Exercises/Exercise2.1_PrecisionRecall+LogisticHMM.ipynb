{
 "cells": [
  {
   "cell_type": "markdown",
   "id": "ed147a9f-dcec-4441-997b-058381b77870",
   "metadata": {
    "tags": []
   },
   "source": [
    "<img src=\"../../code/Resources/cropped-SummerWorkshop_Header.png\">  \n",
    "\n",
    "<h1 align=\"center\">Hidden Markov Models Tutorial/Exercise</h1> \n",
    "<h3 align=\"center\">Summer Workshop on the Dynamic Brain</h3> "
   ]
  },
  {
   "cell_type": "markdown",
   "id": "27027fd7-c6f1-4f09-86ef-d07be652f340",
   "metadata": {},
   "source": [
    "<div style=\"background: #DFF0D8; border-radius: 3px; padding: 10px;\">\n",
    "<p><b>Exercise 2.1a:</b>  Recalling our previous manual determination on this session. Do you see any signals of the disengaged state? How can we amplify them by defining the precision and recall?\n",
    "    \n",
    "   Rather than looking at all four of these quantities, we often summarize them in terms of the _precision_ (here, the fraction of licks that were hits) and _recall_ (here, the fraction of changes that the mouse hit)\n",
    "</div>"
   ]
  },
  {
   "cell_type": "markdown",
   "id": "f95da67f-cd80-497f-a6a7-2020ec99b8ec",
   "metadata": {},
   "source": [
    "<div style=\"background: #DFF0D8; border-radius: 3px; padding: 10px;\">\n",
    "    <p><b>Exercise 2.1b:</b> Fit a GLM-HMM (in the form of a simplified Logistic Regression HMM) to the behavior data to identify states? Be sure to apply cross-validation and identify a reasonable number of states. Then study the latent states, the posterior distributions, and the state progression over trials. Does it agree with what you found in workshop1 and workshop2? \n",
    "</div>"
   ]
  },
  {
   "cell_type": "code",
   "execution_count": null,
   "id": "df8365d8-7eae-424d-822b-b227207a389a",
   "metadata": {},
   "outputs": [],
   "source": []
  }
 ],
 "metadata": {
  "kernelspec": {
   "display_name": "Python 3 (ipykernel)",
   "language": "python",
   "name": "python3"
  },
  "language_info": {
   "codemirror_mode": {
    "name": "ipython",
    "version": 3
   },
   "file_extension": ".py",
   "mimetype": "text/x-python",
   "name": "python",
   "nbconvert_exporter": "python",
   "pygments_lexer": "ipython3",
   "version": "3.9.12"
  }
 },
 "nbformat": 4,
 "nbformat_minor": 5
}
