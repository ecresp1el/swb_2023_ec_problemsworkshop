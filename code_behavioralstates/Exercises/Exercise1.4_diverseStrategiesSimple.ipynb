{
 "cells": [
  {
   "cell_type": "markdown",
   "id": "6d453973-2f47-4a5b-a0c9-02f992d781a5",
   "metadata": {
    "tags": []
   },
   "source": [
    "<img src=\"../../code/Resources/cropped-SummerWorkshop_Header.png\">  \n",
    "\n",
    "<h1 align=\"center\">Visual Behavior Neuropixels Dataset Exercises</h1> \n",
    "<h2 align=\"center\">Summer Workshop on the Dynamic Brain</h2> "
   ]
  },
  {
   "cell_type": "markdown",
   "id": "7300677c-ff18-4661-9771-f5802a8239e2",
   "metadata": {},
   "source": [
    "<div style=\"background: #DFF0D8; border-radius: 3px; padding: 10px;\">\n",
    "<p><b>Exercise 1.4: How do running speed, pupil size and hit rate correlate for different mice? Do different transgenic mouse lines have different behavioral state statistics?  </b>\n",
    "    \n",
    "<p> The core scientific question is do mice employ universal or individual behaviors. You have the opportunity to dive into this data set to find your own view on where universality and individually arise in the low dimensional manifestation of mouse behavior!\n",
    "</div>"
   ]
  },
  {
   "cell_type": "markdown",
   "id": "e95166de-cc46-4885-b9f9-6eba97ce971d",
   "metadata": {},
   "source": [
    "<div style=\"background: #DFF0D8; border-radius: 3px; padding: 10px;\">\n",
    "<p>Import your data\n",
    "</div>"
   ]
  },
  {
   "cell_type": "code",
   "execution_count": 2,
   "id": "d439b7a6-c308-4631-ba97-a051df9548f8",
   "metadata": {
    "tags": []
   },
   "outputs": [],
   "source": [
    "import os\n",
    "import numpy as np\n",
    "import matplotlib.pyplot as plt\n",
    "import pandas as pd\n",
    "import math\n",
    "from scipy.stats import norm\n",
    "\n",
    "pd.set_option('display.max_columns', None)\n",
    "\n",
    "%matplotlib inline\n",
    "\n",
    "import platform\n",
    "platstring = platform.platform()\n",
    "\n",
    "if 'Darwin' in platstring:\n",
    "    # macOS \n",
    "    data_root = \"/Volumes/Brain2023/\"\n",
    "elif 'Windows'  in platstring:\n",
    "    # Windows (replace with the drive letter of USB drive)\n",
    "    data_root = \"E:/\"\n",
    "elif ('amzn' in platstring):\n",
    "    # then on CodeOcean\n",
    "    data_root = \"/data/\"\n",
    "else:\n",
    "    # then your own linux platform\n",
    "    # EDIT location where you mounted hard drive\n",
    "    data_root = \"/media/$USERNAME/Brain2023/\""
   ]
  },
  {
   "cell_type": "code",
   "execution_count": 3,
   "id": "63fa79a4-a6ea-4cc6-b3a8-2d11be864f66",
   "metadata": {
    "tags": []
   },
   "outputs": [],
   "source": [
    "from allensdk.brain_observatory.behavior.behavior_project_cache import VisualBehaviorNeuropixelsProjectCache\n",
    "\n",
    "cache_dir  = data_root\n",
    "\n",
    "cache = VisualBehaviorNeuropixelsProjectCache.from_local_cache(cache_dir=cache_dir, use_static_cache=True)"
   ]
  },
  {
   "cell_type": "code",
   "execution_count": null,
   "id": "491ef90d-ca61-4f36-8bc3-75912671a67b",
   "metadata": {},
   "outputs": [],
   "source": []
  },
  {
   "cell_type": "markdown",
   "id": "7fc63a74-bc84-46c9-a148-2dbdde3dfef6",
   "metadata": {},
   "source": [
    "<div style=\"background: #DFF0D8; border-radius: 3px; padding: 10px;\">\n",
    "<p><b>Exercise 1.5: Do different mice spend different amounts of time in “task engaged” vs “task disengaged” behavioral states? Make a histogram showing time in different states for a set of mice. \n",
    "</div>"
   ]
  },
  {
   "cell_type": "code",
   "execution_count": null,
   "id": "d1c90684-069e-456f-9bc6-5cc5d8122592",
   "metadata": {},
   "outputs": [],
   "source": []
  }
 ],
 "metadata": {
  "kernelspec": {
   "display_name": "Python 3 (ipykernel)",
   "language": "python",
   "name": "python3"
  },
  "language_info": {
   "codemirror_mode": {
    "name": "ipython",
    "version": 3
   },
   "file_extension": ".py",
   "mimetype": "text/x-python",
   "name": "python",
   "nbconvert_exporter": "python",
   "pygments_lexer": "ipython3",
   "version": "3.9.12"
  }
 },
 "nbformat": 4,
 "nbformat_minor": 5
}
