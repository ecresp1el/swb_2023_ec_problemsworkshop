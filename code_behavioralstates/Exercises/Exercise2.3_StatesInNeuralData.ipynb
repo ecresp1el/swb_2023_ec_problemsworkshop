{
 "cells": [
  {
   "cell_type": "markdown",
   "id": "4bd33828-f8dc-419f-aac4-2bc9707ff89d",
   "metadata": {
    "tags": []
   },
   "source": [
    "<img src=\"../../code/Resources/cropped-SummerWorkshop_Header.png\">  \n",
    "\n",
    "<h1 align=\"center\">Hidden Markov Models on Neural Data Tutorial/Exercise</h1> \n",
    "<h3 align=\"center\">Summer Workshop on the Dynamic Brain</h3> \n",
    "<h4 align=\"center\">Day 4 Team</h4> "
   ]
  },
  {
   "cell_type": "markdown",
   "id": "4552cfcb-9ad8-4389-a87b-938a5cab35d4",
   "metadata": {},
   "source": [
    "<div style=\"background: #DFF0D8; border-radius: 3px; padding: 10px;\">\n",
    "    <p><b> Exercise 2.3</b> Can you apply a HMM to neural data?\n",
    "</div>"
   ]
  },
  {
   "cell_type": "code",
   "execution_count": null,
   "id": "f3aad879-6a53-4598-a7f9-0c5fa4e640b0",
   "metadata": {},
   "outputs": [],
   "source": []
  },
  {
   "cell_type": "markdown",
   "id": "b4b2518c-42d1-45a7-a76f-f3df46b35e47",
   "metadata": {},
   "source": [
    "<div style=\"background: #DFF0D8; border-radius: 3px; padding: 10px;\">\n",
    "    <p> The core idea underlying this exercise is to study the non-stationary dynamics across time in neural data. \n",
    "</div>"
   ]
  },
  {
   "cell_type": "code",
   "execution_count": null,
   "id": "e5911f71-7cae-4b29-a006-2228b4f47657",
   "metadata": {},
   "outputs": [],
   "source": []
  }
 ],
 "metadata": {
  "kernelspec": {
   "display_name": "Python 3 (ipykernel)",
   "language": "python",
   "name": "python3"
  },
  "language_info": {
   "codemirror_mode": {
    "name": "ipython",
    "version": 3
   },
   "file_extension": ".py",
   "mimetype": "text/x-python",
   "name": "python",
   "nbconvert_exporter": "python",
   "pygments_lexer": "ipython3",
   "version": "3.9.12"
  }
 },
 "nbformat": 4,
 "nbformat_minor": 5
}
