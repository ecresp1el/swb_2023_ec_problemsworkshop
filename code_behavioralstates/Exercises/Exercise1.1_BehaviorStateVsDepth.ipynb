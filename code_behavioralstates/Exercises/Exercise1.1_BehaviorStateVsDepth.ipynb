{
 "cells": [
  {
   "cell_type": "markdown",
   "id": "f3319bf2-326d-4fa7-a556-3457f2306617",
   "metadata": {},
   "source": [
    "<div style=\"border-left: 3px solid #000; padding: 1px; padding-left: 10px; background: #F0FAFF; \">\n",
    "<h1> Exercise on behavior state effect on different brain regions </h1> \n",
    "    \n",
    "<p> In the workshop today, we found two ways to define behavior state (an inutitive and an algorhmic approach). We also saw that the activity of some neurons is dependent upon the behavior state. This leads us to the question: which brain regions have the most cells which are sensitive to the behavior states that we found?\n",
    "    \n",
    "</div>"
   ]
  },
  {
   "cell_type": "markdown",
   "id": "952820f8-e184-4521-ae23-595721036afa",
   "metadata": {},
   "source": [
    "<div style=\"border-left: 3px solid #000; padding: 1px; padding-left: 10px; background: #F0FAFF; \">\n",
    "<p> A simple question we can ask: are cells preferentially behavior state dependent the deeper you go? Do more superficial layers care less about the behavior state of the animal?\n",
    "<div>"
   ]
  },
  {
   "cell_type": "code",
   "execution_count": null,
   "id": "128d751e-2358-4789-aad6-ee6ac5501c0f",
   "metadata": {},
   "outputs": [],
   "source": [
    "import os\n",
    "import numpy as np\n",
    "import matplotlib.pyplot as plt\n",
    "import pandas as pd\n",
    "import math\n",
    "from scipy.stats import norm\n",
    "\n",
    "pd.set_option('display.max_columns', None)\n",
    "\n",
    "%matplotlib inline\n",
    "\n",
    "import platform\n",
    "platstring = platform.platform()\n",
    "\n",
    "if 'Darwin' in platstring:\n",
    "    # macOS \n",
    "    data_root = \"/Volumes/Brain2023/\"\n",
    "elif 'Windows'  in platstring:\n",
    "    # Windows (replace with the drive letter of USB drive)\n",
    "    data_root = \"E:/\"\n",
    "elif ('amzn' in platstring):\n",
    "    # then on CodeOcean\n",
    "    data_root = \"/data/\"\n",
    "else:\n",
    "    # then your own linux platform\n",
    "    # EDIT location where you mounted hard drive\n",
    "    data_root = \"/media/$USERNAME/Brain2023/\""
   ]
  },
  {
   "cell_type": "code",
   "execution_count": null,
   "id": "33c41fe4-1ebc-4817-ac4e-7f18dd7703fb",
   "metadata": {},
   "outputs": [],
   "source": [
    "from allensdk.brain_observatory.behavior.behavior_project_cache import VisualBehaviorNeuropixelsProjectCache\n",
    "\n",
    "cache_dir  = data_root\n",
    "\n",
    "cache = VisualBehaviorNeuropixelsProjectCache.from_local_cache(cache_dir=cache_dir, use_static_cache=True)"
   ]
  },
  {
   "cell_type": "code",
   "execution_count": null,
   "id": "41b9b740-e194-4894-97db-7dd670b7f951",
   "metadata": {},
   "outputs": [],
   "source": [
    "area_of_interest = ['VISam', 'TH', 'DG', 'MGv'] # looking for regions with enhanced behavior state sensitivity\n",
    "unit_nos = np.array([idx for idx, ccf in enumerate(unit_table.structure_acronym.values) if ccf in area_of_interest])\n",
    "unit_ids = unit_table.index[unit_nos] \n",
    "\n",
    "# extract the sample unit ids and ready our three lists for recording values\n",
    "example_unit_ids = unit_table.index\n",
    "engaged_firing_rate_difference = []\n",
    "unit_depth = []\n",
    "in_region = []\n",
    "\n",
    "# loop through all units\n",
    "for n, unit in enumerate(example_unit_ids):\n",
    "    unit_data = session.spike_times[unit]\n",
    "    spike_times = [unit_data[np.logical_and(s1 <= unit_data, unit_data <= s2)] - s1 for s1, s2 in zip(start_times, stop_times)]\n",
    "    \n",
    "    # Compute the firing rate for each trial\n",
    "    firing_rate = [len(spikes)/(s2 - s1) for spikes, s1, s2 in zip(spike_times, start_times, stop_times)]\n",
    "    \n",
    "    # compute the firing rate in both the engaged and disengaged trials\n",
    "    engaged_firing_rate = []\n",
    "    disengaged_firing_rate = []\n",
    "    for i, trial in enumerate(switch_trials[:-1]):\n",
    "        if not states.values[trial+1]: \n",
    "            engaged_firing_rate.append(firing_rate[i])\n",
    "        else:\n",
    "            disengaged_firing_rate.append(firing_rate[i])\n",
    "            \n",
    "    # identify if unit is in the your CCF.\n",
    "    if unit in unit_ids:\n",
    "        in_region.append(np.where(unit == np.array(unit_ids))[0][0])\n",
    "    else:\n",
    "        in_region.append(0)\n",
    "    # Calculate the difference in firing rate for that unit between behavior states.\n",
    "    engaged_firing_rate_difference.append((np.mean(engaged_firing_rate) - np.mean(disengaged_firing_rate)))\n",
    "    unit_depth.append(unit_table.loc[unit].probe_vertical_position)\n",
    "\n",
    "    \n",
    "# make plot and prepare bins\n",
    "fig,ax = plt.subplots(1,1, figsize = (4,3))    \n",
    "NumBins = 12\n",
    "bins = np.linspace(0, np.max(unit_depth), NumBins)\n",
    "variance_at_depth = np.zeros([NumBins-1, 1])\n",
    "for bin_idx in range(NumBins-1):\n",
    "    keep_in_bin = np.logical_and(np.array(unit_depth) > bins[bin_idx], np.array(unit_depth) < bins[bin_idx + 1])\n",
    "    variance_at_depth[bin_idx] = np.std(np.array(engaged_firing_rate_difference)[keep_in_bin])\n",
    "\n",
    "ax.scatter(unit_depth, engaged_firing_rate_difference, c=in_region, alpha=0.1, cmap='jet')\n",
    "ax.plot(bins[0:-1], variance_at_depth, 'g', lw=3)\n",
    "#ax.set_xlim([0,1])\n",
    "ax.set_ylim([-6,6])\n",
    "ax.set_xlabel('Unit depth')\n",
    "ax.set_ylabel('$\\Delta$ Firing rate Engaged-Disengaged')\n",
    "plt.tight_layout()\n",
    "plt.show()"
   ]
  },
  {
   "cell_type": "code",
   "execution_count": null,
   "id": "c2d49fcd-6c90-4d25-bed4-11d45f3f0a07",
   "metadata": {},
   "outputs": [],
   "source": [
    "fig,ax = plt.subplots(1,1, figsize = (4,3)) \n",
    "ax.scatter(unit_depth, engaged_firing_rate_difference, c=in_region, alpha=0.1, cmap='jet')\n",
    "ax.plot(bins[0:-1], variance_at_depth, 'g', lw=3)\n",
    "#ax.set_xlim([0,1])\n",
    "ax.set_ylim([-6,6])\n",
    "ax.set_xlabel('Unit depth')\n",
    "ax.set_ylabel('$\\Delta$ Firing rate Engaged-Disengaged')\n",
    "plt.tight_layout()\n",
    "plt.show()"
   ]
  },
  {
   "cell_type": "markdown",
   "id": "a0bc5af6-95f3-4f9c-9d3d-6ae7364891e4",
   "metadata": {},
   "source": [
    "Which direction does the probe measure?"
   ]
  },
  {
   "cell_type": "markdown",
   "id": "18f88e7c-3cdd-4d1b-b760-13e47ef18219",
   "metadata": {},
   "source": [
    "<div style=\"border-left: 3px solid #000; padding: 1px; padding-left: 10px; background: #F0FAFF; \">\n",
    "<p> In this simple study, we find that the response difference in firing rate of neurons across depth is seems to grow with depth. How could you validate this result with other data that you've seen? \n",
    "    \n",
    "<p> Is this consistent with the thamlo-cortical loops which are often associated with being behavior state dependent?\n",
    "</div>"
   ]
  },
  {
   "cell_type": "code",
   "execution_count": null,
   "id": "6401f8d1-fe44-4a81-8c8b-2aecd9c3e6c2",
   "metadata": {},
   "outputs": [],
   "source": []
  }
 ],
 "metadata": {
  "kernelspec": {
   "display_name": "Python 3 (ipykernel)",
   "language": "python",
   "name": "python3"
  },
  "language_info": {
   "codemirror_mode": {
    "name": "ipython",
    "version": 3
   },
   "file_extension": ".py",
   "mimetype": "text/x-python",
   "name": "python",
   "nbconvert_exporter": "python",
   "pygments_lexer": "ipython3",
   "version": "3.9.12"
  }
 },
 "nbformat": 4,
 "nbformat_minor": 5
}
